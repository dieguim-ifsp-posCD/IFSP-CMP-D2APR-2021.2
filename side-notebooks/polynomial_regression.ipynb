{
 "cells": [
  {
   "cell_type": "markdown",
   "id": "51ee6be6-8647-48b7-9e4b-56a2d2c890a8",
   "metadata": {},
   "source": [
    "### **D2APR: Aprendizado de Máquina e Reconhecimento de Padrões** (IFSP, Campinas) <br/>\n",
    "**Prof**: Samuel Martins (Samuka) <br/>\n",
    "\n",
    "<a rel=\"license\" href=\"http://creativecommons.org/licenses/by-nc-sa/4.0/\"><img alt=\"Creative Commons License\" style=\"border-width:0\" src=\"https://i.creativecommons.org/l/by-nc-sa/4.0/88x31.png\" /></a><br />This work is licensed under a <a rel=\"license\" href=\"http://creativecommons.org/licenses/by-nc-sa/4.0/\">Creative Commons Attribution-NonCommercial-ShareAlike 4.0 International License</a>. <br/><br/>"
   ]
  },
  {
   "cell_type": "markdown",
   "id": "82a75cd0-a3bf-41fb-b399-96af1d4c4e20",
   "metadata": {},
   "source": [
    "#### Custom CSS style"
   ]
  },
  {
   "cell_type": "code",
   "execution_count": null,
   "id": "d23eece4-130c-42e9-8a16-82eccb1da581",
   "metadata": {},
   "outputs": [],
   "source": [
    "%%html\n",
    "<style>\n",
    ".dashed-box {\n",
    "    border: 1px dashed black !important;\n",
    "#    font-size: var(--jp-content-font-size1) !important;\n",
    "}\n",
    "\n",
    ".dashed-box table {\n",
    "\n",
    "}\n",
    "\n",
    ".dashed-box tr {\n",
    "    background-color: white !important;\n",
    "}\n",
    "        \n",
    ".alt-tab {\n",
    "    background-color: black;\n",
    "    color: #ffc351;\n",
    "    padding: 4px;\n",
    "    font-size: 1em;\n",
    "    font-weight: bold;\n",
    "    font-family: monospace;\n",
    "}\n",
    "// add your CSS styling here\n",
    "</style>"
   ]
  },
  {
   "cell_type": "code",
   "execution_count": null,
   "id": "59cd4197-898b-4ebe-8d32-1aeee4130dd4",
   "metadata": {},
   "outputs": [],
   "source": [
    "import numpy as np\n",
    "import matplotlib.pyplot as plt\n",
    "import seaborn as sns\n",
    "\n",
    "sns.set_theme(style=\"whitegrid\")\n",
    "\n",
    "params = {'legend.fontsize': 'x-large',\n",
    "          'figure.figsize': (15, 5),\n",
    "         'axes.labelsize': 'x-large',\n",
    "         'axes.titlesize':'x-large',\n",
    "         'xtick.labelsize':'x-large',\n",
    "         'ytick.labelsize':'x-large'}\n",
    "plt.rcParams.update(params)"
   ]
  },
  {
   "cell_type": "code",
   "execution_count": null,
   "id": "47db7097-8aa4-4a27-8950-d0cc8317087b",
   "metadata": {},
   "outputs": [],
   "source": [
    "np.random.seed(42)"
   ]
  },
  {
   "cell_type": "markdown",
   "id": "0cbf4aed-f967-4d42-8355-ac865064ff4a",
   "metadata": {},
   "source": [
    "# Polynomial Regression with One Variable"
   ]
  },
  {
   "cell_type": "markdown",
   "id": "e375a09f-a8eb-4df0-ba3c-8189585dea50",
   "metadata": {},
   "source": [
    "### Generating synthetic (quadratic) data"
   ]
  },
  {
   "cell_type": "code",
   "execution_count": null,
   "id": "5d0cf09b-b8d3-4964-b2f1-6ee4402d6b8a",
   "metadata": {},
   "outputs": [],
   "source": [
    "def generate_quadratic_data(n_samples=100):\n",
    "    X = 6 * np.random.rand(n_samples, 1) - 3\n",
    "    y = 0.5 * X.flatten()**2 + X.flatten() + 2 + np.random.randn(n_samples)\n",
    "    \n",
    "    return X, y"
   ]
  },
  {
   "cell_type": "code",
   "execution_count": null,
   "id": "3feb9526-53dd-4659-a9e6-3cb7022fbdf4",
   "metadata": {},
   "outputs": [],
   "source": []
  },
  {
   "cell_type": "code",
   "execution_count": null,
   "id": "50e169d0-8159-4d9f-8cf7-47795e710794",
   "metadata": {},
   "outputs": [],
   "source": [
    "# plot data\n",
    "plt.figure(figsize=(10,6))\n",
    "sns.scatterplot(x=X_train[:,0], y=y_train, s=60, edgecolor='black', linewidth=1, alpha=0.8, label='Train')\n",
    "plt.xlabel('x1')\n",
    "plt.ylabel('y')"
   ]
  },
  {
   "cell_type": "code",
   "execution_count": null,
   "id": "279f9f24-6b71-449e-af77-ed204fd809df",
   "metadata": {},
   "outputs": [],
   "source": [
    "# plot data\n",
    "plt.figure(figsize=(10,6))\n",
    "sns.scatterplot(x=X_train[:,0], y=y_train, s=60, edgecolor='black', linewidth=1, alpha=0.8, label='Train')\n",
    "sns.scatterplot(x=X_test[:,0], y=y_test, s=60, edgecolor='black', linewidth=1, alpha=0.8, color='orange', label='Test')\n",
    "plt.xlabel('x1')\n",
    "plt.ylabel('y')"
   ]
  },
  {
   "cell_type": "markdown",
   "id": "47bdf960-1501-42fd-8357-ff261339d438",
   "metadata": {},
   "source": [
    "### Polynomial Features\n",
    "https://scikit-learn.org/stable/modules/generated/sklearn.preprocessing.PolynomialFeatures.html"
   ]
  },
  {
   "cell_type": "code",
   "execution_count": null,
   "id": "c66f1a5f-35b8-4392-8b7e-708ebe153549",
   "metadata": {},
   "outputs": [],
   "source": []
  },
  {
   "cell_type": "code",
   "execution_count": null,
   "id": "5c90f3d8-56fc-4bd6-9e4d-6b35917e55c4",
   "metadata": {},
   "outputs": [],
   "source": [
    "X_train[:5]"
   ]
  },
  {
   "cell_type": "code",
   "execution_count": null,
   "id": "4e1bf98c-fa0f-48e2-9e80-1d8cc0df5990",
   "metadata": {},
   "outputs": [],
   "source": [
    "X_train_pol[:5]  # x1, x1^2"
   ]
  },
  {
   "cell_type": "markdown",
   "id": "ec08bf26-5b87-4b91-9784-4a9c535f5275",
   "metadata": {},
   "source": [
    "### Training a Polynomial Regression Model\n",
    "https://scikit-learn.org/stable/modules/generated/sklearn.preprocessing.PolynomialFeatures.html"
   ]
  },
  {
   "cell_type": "code",
   "execution_count": null,
   "id": "cf608a3a-8592-4581-82ff-e32bc4399592",
   "metadata": {},
   "outputs": [],
   "source": [
    "# train Polynomial Regression Model\n",
    "from sklearn.pipeline import Pipeline\n",
    "from sklearn.preprocessing import PolynomialFeatures\n",
    "from sklearn.preprocessing import StandardScaler\n",
    "from sklearn.linear_model import LinearRegression\n",
    "\n"
   ]
  },
  {
   "cell_type": "markdown",
   "id": "85538a83-c141-47a7-b333-c635ca9f5467",
   "metadata": {},
   "source": [
    "<table align=\"left\" class=\"dashed-box\">\n",
    "<tr>\n",
    "    <td>💡</td>\n",
    "    <td>We can consider that the <b>Polynomial (linear) Regression model</b> is the combination of all the <b><code>Pipeline</code> steps</b>: <code>polynomial_regression</code>.</td>\n",
    "</tr>\n",
    "</table>"
   ]
  },
  {
   "cell_type": "code",
   "execution_count": null,
   "id": "145a68a4-5e39-4478-b821-59a54d1f93ec",
   "metadata": {},
   "outputs": [],
   "source": []
  },
  {
   "cell_type": "code",
   "execution_count": null,
   "id": "8a584200-1828-4b13-9d0a-d901f33f8b04",
   "metadata": {},
   "outputs": [],
   "source": [
    "# we can get the learned parameters from our pipeline model\n"
   ]
  },
  {
   "cell_type": "code",
   "execution_count": null,
   "id": "3c7fc953-36b3-447d-9d75-0e01144df6d3",
   "metadata": {},
   "outputs": [],
   "source": [
    "# getting the 'linear regression model'\n",
    "lin_reg = polynomial_regression.get_params()['lin_reg']\n",
    "\n",
    "# learned coefficients\n",
    "theta_0 = lin_reg.intercept_\n",
    "theta_1, theta_2 = lin_reg.coef_\n",
    "\n",
    "print('Learned coefficients')\n",
    "print(f'theta_0 (bias/intercept): {theta_0}')\n",
    "print(f'theta_1: {theta_1}')\n",
    "print(f'theta_2: {theta_2}')"
   ]
  },
  {
   "cell_type": "markdown",
   "id": "a333cdfa-7dff-421a-91c1-1ada6821e13d",
   "metadata": {},
   "source": [
    "Therefore, the learnd **polynomial (linear) regression model** is:\n",
    "\n",
    "$$\n",
    "    h_\\theta(x) = \\theta_0 + \\theta_1x_1 + \\theta_2x_1^2\n",
    "$$\n",
    "\n",
    "$$\n",
    "    h_\\theta(x) = 3.413 + 1.658 x_1 + 1.50 x_1^2\n",
    "$$"
   ]
  },
  {
   "cell_type": "markdown",
   "id": "cbceacab-bc6f-4a76-996f-0dc361c5df2f",
   "metadata": {},
   "source": [
    "### Prediction"
   ]
  },
  {
   "cell_type": "code",
   "execution_count": null,
   "id": "b44c200e-5985-455f-9979-a907acf6d53b",
   "metadata": {},
   "outputs": [],
   "source": [
    "# apply transforms to the data, and predict with the final estimator\n"
   ]
  },
  {
   "cell_type": "code",
   "execution_count": null,
   "id": "fe256dbe-88e9-483f-8ba3-f718cafa7f6f",
   "metadata": {},
   "outputs": [],
   "source": [
    "from sklearn.metrics import mean_squared_error\n",
    "\n",
    "\n",
    "\n",
    "\n",
    "print(f'RMSE = {rmse}')"
   ]
  },
  {
   "cell_type": "markdown",
   "id": "49c8c67d-9649-4c00-8398-da3fe4758dca",
   "metadata": {},
   "source": [
    "### Visualization"
   ]
  },
  {
   "cell_type": "code",
   "execution_count": null,
   "id": "1e948ebb-2628-49f1-9fcf-10059ca1799f",
   "metadata": {},
   "outputs": [],
   "source": [
    "# trick to plot the learned model with lineplot\n",
    "n_points = 100\n",
    "\n",
    "# generate many spaced points in the interval [X_train.min(), X_train.max()] \n",
    "X_curve = np.linspace(X_train.min(), X_train.max(), n_points).reshape((n_points, 1))\n",
    "\n",
    "# get the cooresponding y points for these points, according to our model\n",
    "y_curve = polynomial_regression.predict(X_curve)"
   ]
  },
  {
   "cell_type": "code",
   "execution_count": null,
   "id": "0abd8e8d-f6e2-4132-86e9-30775206b564",
   "metadata": {},
   "outputs": [],
   "source": [
    "# plotting\n",
    "# plt.figure(figsize=(10,6))\n",
    "sns.scatterplot(x=X_train[:,0], y=y_train, s=60, edgecolor='black', linewidth=1, alpha=0.8, label='Train')\n",
    "sns.scatterplot(x=X_test[:,0], y=y_test, s=60, edgecolor='black', linewidth=1, alpha=0.8, color='orange', label='Test')\n",
    "sns.lineplot(x=X_curve[:,0], y=y_curve, color='red', label='Polynomial Regression Model')\n",
    "plt.xlabel('x1')\n",
    "plt.ylabel('y')"
   ]
  },
  {
   "cell_type": "markdown",
   "id": "024562d4-5be9-49ee-a6e4-0e5df3da69b3",
   "metadata": {},
   "source": [
    "# Polynomial Regression with Multiple Variables"
   ]
  },
  {
   "cell_type": "markdown",
   "id": "1054c85f-2fa5-4860-8692-25a9627dc874",
   "metadata": {},
   "source": [
    "### Generating synthetic (quadratic) data"
   ]
  },
  {
   "cell_type": "code",
   "execution_count": null,
   "id": "b6276e17-5fe0-45ee-a567-09f9301bd1aa",
   "metadata": {},
   "outputs": [],
   "source": [
    "def generate_data(n_samples=100):\n",
    "    X = 7 * np.random.rand(n_samples, 2) - 2.8\n",
    "    y = X[:,0]**2 + X[:,1]**2 + 0.2*X[:,0] + 0.2*X[:,1] + 0.1*X[:,0]*X[:,1] +2 + np.random.randn(n_samples)\n",
    "    \n",
    "    return X, y"
   ]
  },
  {
   "cell_type": "code",
   "execution_count": null,
   "id": "5c903aa1-5f2c-43d2-9957-f1df09bbc524",
   "metadata": {},
   "outputs": [],
   "source": [
    "X_train, y_train = generate_data(n_samples=1000)\n",
    "X_test, y_test = generate_data(n_samples=100)"
   ]
  },
  {
   "cell_type": "code",
   "execution_count": null,
   "id": "251218d8-02b7-453a-b162-35f8d312394e",
   "metadata": {},
   "outputs": [],
   "source": [
    "import plotly.express as px\n",
    "\n",
    "fig = px.scatter_3d(x=X_train[:,0], y=X_train[:,1], z=y_train, labels={'x': 'x1', 'y': 'x2', 'z': 'y'}, width=800, height=800)\n",
    "fig.data[0].update(marker=dict(size=10, opacity=0.8), name='Train', showlegend=True)\n",
    "fig.add_scatter3d(x=X_test[:,0], y=X_test[:,1], z=y_test, mode='markers', marker=dict(size=10, opacity=0.8, line=dict(width=1, color='black')), name='Test')\n",
    "fig.show()"
   ]
  },
  {
   "cell_type": "markdown",
   "id": "967c8f1c-4807-4985-abf9-1d8a6d25038c",
   "metadata": {},
   "source": [
    "### Polynomial Features\n",
    "https://scikit-learn.org/stable/modules/generated/sklearn.preprocessing.PolynomialFeatures.html"
   ]
  },
  {
   "cell_type": "code",
   "execution_count": null,
   "id": "5fbe7623-f641-4be3-98f2-2c0f6c5ce0f5",
   "metadata": {},
   "outputs": [],
   "source": [
    "from sklearn.preprocessing import PolynomialFeatures\n",
    "\n"
   ]
  },
  {
   "cell_type": "code",
   "execution_count": null,
   "id": "1d35e2d1-561d-4d19-b855-963acdf07d32",
   "metadata": {},
   "outputs": [],
   "source": [
    "X_train[:5]  # x1, x2"
   ]
  },
  {
   "cell_type": "code",
   "execution_count": null,
   "id": "8221ff27-a8db-4de8-9720-5b8b88bf060e",
   "metadata": {},
   "outputs": [],
   "source": [
    "X_train_pol[:5]  # x1, x2, x1^2, x1x2, x2^2"
   ]
  },
  {
   "cell_type": "markdown",
   "id": "587dde37-003b-4dcc-85da-0b6442633407",
   "metadata": {},
   "source": [
    "### Training a Polynomial Regression Model\n",
    "https://scikit-learn.org/stable/modules/generated/sklearn.preprocessing.PolynomialFeatures.html"
   ]
  },
  {
   "cell_type": "code",
   "execution_count": null,
   "id": "7bbf44aa-1853-447c-9637-52e1b45fd071",
   "metadata": {},
   "outputs": [],
   "source": [
    "# train Polynomial Regression Model\n",
    "from sklearn.pipeline import Pipeline\n",
    "from sklearn.preprocessing import PolynomialFeatures\n",
    "from sklearn.preprocessing import StandardScaler\n",
    "from sklearn.linear_model import LinearRegression\n",
    "\n",
    "\n",
    "\n",
    "\n",
    "\n",
    "\n",
    "# Fit all the transforms one after the other and transform the data,\n",
    "# then fit the transformed data using the final estimator.\n",
    "polynomial_regression.fit(X_train, y_train)"
   ]
  },
  {
   "cell_type": "code",
   "execution_count": null,
   "id": "f5ec520f-fb1b-4e52-816b-fa73a7f308af",
   "metadata": {},
   "outputs": [],
   "source": [
    "# getting the 'linear regression model'\n",
    "lin_reg = polynomial_regression.get_params()['lin_reg']\n",
    "\n",
    "# learned coefficients\n",
    "theta_0 = lin_reg.intercept_\n",
    "thetas = lin_reg.coef_\n",
    "\n",
    "print('Learned coefficients')\n",
    "print(f'theta_0 (bias/intercept): {theta_0}')\n",
    "for i, theta in enumerate(thetas):\n",
    "    print(f'theta_{i+1}: {theta}')"
   ]
  },
  {
   "cell_type": "markdown",
   "id": "78f4bced-e423-471c-b06e-fc9f9a428509",
   "metadata": {},
   "source": [
    "Therefore, the learnd **polynomial (linear) regression model** is:\n",
    "\n",
    "$$\n",
    "    h_\\theta(x) = \\theta_0 + \\theta_1x_1 + \\theta_2x_2 + \\theta_3x_1^2 + \\theta_4x_1x_1 + \\theta_5x_2^2\n",
    "$$\n",
    "\n",
    "$$\n",
    "    h_\\theta(x) = 11.66 + 0.43x_1 + 0.35x_2 + 4.54x_1^2 + 0.47x_1x_2 + 4.64x_2^2\n",
    "$$"
   ]
  },
  {
   "cell_type": "markdown",
   "id": "2ff5acf1-e6cf-4423-a345-1b307ba3bbb7",
   "metadata": {},
   "source": [
    "### Prediction"
   ]
  },
  {
   "cell_type": "code",
   "execution_count": null,
   "id": "cdb58547-02d9-46b6-82f1-fce69653d043",
   "metadata": {},
   "outputs": [],
   "source": [
    "# apply transforms to the data, and predict with the final estimator\n",
    "y_test_pred = polynomial_regression.predict(X_test)"
   ]
  },
  {
   "cell_type": "code",
   "execution_count": null,
   "id": "a1300806-bfe0-4592-a62e-185d06822029",
   "metadata": {},
   "outputs": [],
   "source": [
    "from sklearn.metrics import mean_squared_error\n",
    "rmse = mean_squared_error(y_test, y_test_pred, squared=False)\n",
    "print(f'RMSE = {rmse}')"
   ]
  },
  {
   "cell_type": "markdown",
   "id": "fbea4646-f6c9-4cf6-8600-56d7d4d1f5db",
   "metadata": {},
   "source": [
    "### Visualization"
   ]
  },
  {
   "cell_type": "code",
   "execution_count": null,
   "id": "0573d98c-b9a7-4d2a-a8a7-9013f75a673c",
   "metadata": {},
   "outputs": [],
   "source": [
    "# trick to plot the learned model with lineplot\n",
    "#\n",
    "# To plot a surface by Plotly, we need to build a meshgrid with our features.\n",
    "# These meshgrids are matrices that contain feature vectors for all possible combination between the available features.\n",
    "\n",
    "n_points = 100\n",
    "\n",
    "# generate many spaced points in the interval [X_train.min(), X_train.max()] \n",
    "x1_curve = np.linspace(X_train[:,0].min(), X_train[:,0].max(), n_points).reshape((n_points, 1))\n",
    "x2_curve = np.linspace(X_train[:,1].min(), X_train[:,1].max(), n_points).reshape((n_points, 1))\n",
    "\n",
    "\n",
    "X1, X2 = np.meshgrid(x1_curve, x2_curve)\n",
    "x1_curve_all = X1.ravel()\n",
    "x1_curve_all = x1_curve_all.reshape((x1_curve_all.size, 1))  # column vector\n",
    "x2_curve_all = X2.ravel()\n",
    "x2_curve_all = x2_curve_all.reshape((x2_curve_all.size, 1))  # column vector\n",
    "\n",
    "# create a feature matriz with x1, x2 feats for all curve range\n",
    "X_curve_all = np.hstack((x1_curve_all, x2_curve_all))\n",
    "y_curve_all = polynomial_regression.predict(X_curve_all)\n",
    "\n",
    "Y = y_curve_all.reshape(X1.shape)\n",
    "\n",
    "## output layout\n",
    "# e.g.:\n",
    "# x1_curve = [0, 0.5, 1]\n",
    "# x2_curve = [3, 4, 5]\n",
    "#\n",
    "# X1 = [\n",
    "#        [0. , 0.5, 1.],\n",
    "#        [0. , 0.5, 1.],\n",
    "#        [0. , 0.5, 1.]]\n",
    "# X2 = [\n",
    "#        [3 , 3, 3],\n",
    "#        [4 , 4, 4],\n",
    "#        [5 , 5, 5]]\n",
    "#\n",
    "# x1_curve_all = [[\n",
    "#                   0.,\n",
    "#                   0.5,\n",
    "#                   1,\n",
    "#                   0.,\n",
    "#                   0.5,\n",
    "#                   1,\n",
    "#                   0.,\n",
    "#                   0.5,\n",
    "#                   1]]\n",
    "# x2_curve_all = [[\n",
    "#                   3,\n",
    "#                   4,\n",
    "#                   5,\n",
    "#                   3,\n",
    "#                   4,\n",
    "#                   5,\n",
    "#                   3,\n",
    "#                   4,\n",
    "#                   5]]\n",
    "#\n",
    "# // feature matrix with all possible combination between the x1 and x2 features.\n",
    "# // each row is a feature vector (instance) of this combination.\n",
    "# X_curve_all = [\n",
    "#                 [0, 3],\n",
    "#                 [0.5, 3],\n",
    "#                 [1, 3],\n",
    "#                 [0, 4],\n",
    "#                 [0.5, 4],\n",
    "#                 [1, 4],\n",
    "#                 [0, 5],\n",
    "#                 [0.5, 5],\n",
    "#                 [1, 5]]\n",
    "\n",
    "# y = [#, #, #, ..., #]  // 1D array with the\n",
    "# Y // 2D array with the shape of the used meshgrid by reshaping the 1D label array y"
   ]
  },
  {
   "cell_type": "code",
   "execution_count": null,
   "id": "30f3c366-3d53-4949-a577-7913c84dbe54",
   "metadata": {},
   "outputs": [],
   "source": [
    "import plotly.express as px\n",
    "import plotly.graph_objects as go\n",
    "\n",
    "# fig = go.Figure(data=[go.Surface(x=X1, y=X2, z=Y)])\n",
    "\n",
    "fig = px.scatter_3d(x=X_train[:,0], y=X_train[:,1], z=y_train, labels={'x': 'x1', 'y': 'x2', 'z': 'y'}, width=1000, height=800)\n",
    "fig.data[0].update(marker=dict(size=10, opacity=0.8), name='Train', showlegend=True)\n",
    "fig.add_scatter3d(x=X_test[:,0], y=X_test[:,1], z=y_test, mode='markers', marker=dict(size=10, opacity=0.8, line=dict(width=1, color='black')), name='Test')\n",
    "fig.add_surface(x=X1, y=X2, z=Y, colorscale=[[0, '#FFD700'], [1, '#FFD700']], showscale=False, name='Pol. Regression Model', showlegend=True)\n",
    "fig.show()"
   ]
  },
  {
   "cell_type": "markdown",
   "id": "add7d486-bbfe-435a-8694-ed3a9c193301",
   "metadata": {},
   "source": [
    "# Exercise\n",
    "Apply the same steps seen above for the data below.\n",
    "\n",
    "Tip: Consider a **cubic function** (degree = 3)."
   ]
  },
  {
   "cell_type": "code",
   "execution_count": null,
   "id": "886baada-3358-4690-950e-b2598cc126d2",
   "metadata": {},
   "outputs": [],
   "source": [
    "def generate_cubic_data(n_samples=100):\n",
    "    X = 6 * np.random.rand(n_samples, 1) - 3\n",
    "    y = 0.5 * X.flatten()**3 + np.random.randn(n_samples)\n",
    "    \n",
    "    return X, y"
   ]
  },
  {
   "cell_type": "code",
   "execution_count": null,
   "id": "131766ef-93de-4bb6-aa74-0e0e1e25a7b4",
   "metadata": {},
   "outputs": [],
   "source": [
    "X_train, y_train = generate_cubic_data(n_samples=100)\n",
    "X_test, y_test = generate_cubic_data(n_samples=20)"
   ]
  },
  {
   "cell_type": "code",
   "execution_count": null,
   "id": "dfc22614-33db-4f03-90f0-2f5ba5ab7751",
   "metadata": {},
   "outputs": [],
   "source": []
  },
  {
   "cell_type": "code",
   "execution_count": null,
   "id": "f01912d5-98bc-4610-ba1f-fa8f26d3ecd7",
   "metadata": {},
   "outputs": [],
   "source": []
  },
  {
   "cell_type": "code",
   "execution_count": null,
   "id": "5660b5f8-e40e-4c23-bf90-9ebbdbc80c74",
   "metadata": {},
   "outputs": [],
   "source": []
  }
 ],
 "metadata": {
  "kernelspec": {
   "display_name": "Python 3.7.3 64-bit ('yeah': virtualenv)",
   "language": "python",
   "name": "python37364bityeahvirtualenv41b95d149b904b48a1741f344d38907c"
  },
  "language_info": {
   "codemirror_mode": {
    "name": "ipython",
    "version": 3
   },
   "file_extension": ".py",
   "mimetype": "text/x-python",
   "name": "python",
   "nbconvert_exporter": "python",
   "pygments_lexer": "ipython3",
   "version": "3.9.5"
  }
 },
 "nbformat": 4,
 "nbformat_minor": 5
}
