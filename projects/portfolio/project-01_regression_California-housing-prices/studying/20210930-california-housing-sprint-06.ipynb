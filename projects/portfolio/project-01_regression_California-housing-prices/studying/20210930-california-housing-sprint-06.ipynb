{
 "cells": [
  {
   "cell_type": "markdown",
   "id": "marine-dietary",
   "metadata": {},
   "source": [
    "### **D2APR: Aprendizado de Máquina e Reconhecimento de Padrões** (IFSP, Campinas) <br/>\n",
    "**Prof. Dr.**: Samuel Martins (Samuka) <br/>\n",
    "\n",
    "<a rel=\"license\" href=\"http://creativecommons.org/licenses/by-nc-sa/4.0/\"><img alt=\"Creative Commons License\" style=\"border-width:0\" src=\"https://i.creativecommons.org/l/by-nc-sa/4.0/88x31.png\" /></a><br />This work is licensed under a <a rel=\"license\" href=\"http://creativecommons.org/licenses/by-nc-sa/4.0/\">Creative Commons Attribution-NonCommercial-ShareAlike 4.0 International License</a>. <br/><br/>"
   ]
  },
  {
   "cell_type": "markdown",
   "id": "circular-morrison",
   "metadata": {},
   "source": [
    "### Custom CSS style"
   ]
  },
  {
   "cell_type": "code",
   "execution_count": null,
   "id": "single-catalog",
   "metadata": {
    "tags": []
   },
   "outputs": [],
   "source": [
    "%%html\n",
    "<style>\n",
    ".dashed-box {\n",
    "    border: 1px dashed black !important;\n",
    "}\n",
    ".dashed-box tr {\n",
    "  background-color: white !important;  \n",
    "}\n",
    ".alt-tab {\n",
    "    background-color: black;\n",
    "    color: #ffc351;\n",
    "    padding: 4px;\n",
    "    font-size: 1em;\n",
    "    font-weight: bold;\n",
    "    font-family: monospace;\n",
    "}\n",
    "// add your CSS styling here\n",
    "</style>"
   ]
  },
  {
   "cell_type": "markdown",
   "id": "comic-kinase",
   "metadata": {},
   "source": [
    "<span style='font-size: 2.5em'><b>California Housing 🏡</b></span><br/>\n",
    "<span style='font-size: 1.5em'>Predict the median housing price in California districts</span>\n",
    "\n",
    "<span style=\"background-color: #ffc351; padding: 4px; font-size: 1em;\"><b>Sprint 6</b></span>\n",
    "\n",
    "<img src=\"../imgs/california-flag.png\" width=300/>\n",
    "\n",
    "---\n",
    "\n"
   ]
  },
  {
   "cell_type": "markdown",
   "id": "formed-conjunction",
   "metadata": {},
   "source": [
    "## Before starting this notebook\n",
    "This jupyter notebook is designed for **experimental and teaching purposes**. <br/>\n",
    "Although it is (relatively) well organized, it aims at solving the _target problem_ by evaluating (and documenting) _different solutions_ for somes steps of the **machine learning pipeline** — see the ***Machine Learning Project Checklist by xavecoding***. <br/>\n",
    "We tried to make this notebook as literally a _notebook_. Thus, it contains notes, drafts, comments, etc.<br/>\n",
    "\n",
    "For teaching purposes, some parts of the notebook may be _overcommented_. Moreover, to simulate a real development scenario, we will divide our solution and experiments into **\"sprints\"** in which each sprint has some goals (e.g., perform _feature selection_, train more ML models, ...). <br/>\n",
    "The **sprint goal** will be stated at the beginning of the notebook.\n",
    "\n",
    "A ***final notebook*** (or any other kind of presentation) that compiles and summarizes all sprints — the target problem, solutions, and findings — should be created later.\n",
    "\n",
    "#### Conventions\n",
    "\n",
    "<ul>\n",
    "    <li>💡 indicates a tip. </li>\n",
    "    <li> ⚠️ indicates a warning message. </li>\n",
    "    <li><span class='alt-tab'>alt tab</span> indicates and an extra content (<i>e.g.</i>, slides) to explain a given concept.</li>\n",
    "</ul>\n",
    "\n",
    "---"
   ]
  },
  {
   "cell_type": "markdown",
   "id": "roman-clause",
   "metadata": {},
   "source": [
    "## 🎯 Sprint Goals\n",
    "- Fine-tune the _hyperparameters_ of the Polynomial Regression models form Sprint #5.\n",
    "---"
   ]
  },
  {
   "cell_type": "markdown",
   "id": "round-sussex",
   "metadata": {},
   "source": [
    "### 0. Imports and default settings for plotting"
   ]
  },
  {
   "cell_type": "code",
   "execution_count": 1,
   "id": "settled-brighton",
   "metadata": {},
   "outputs": [],
   "source": [
    "import numpy as np\n",
    "import pandas as pd\n",
    "import matplotlib.pyplot as plt\n",
    "import seaborn as sns\n",
    "\n",
    "sns.set_theme(style=\"whitegrid\")\n",
    "\n",
    "params = {'legend.fontsize': 'x-large',\n",
    "          'figure.figsize': (15, 5),\n",
    "         'axes.labelsize': 'x-large',\n",
    "         'axes.titlesize':'x-large',\n",
    "         'xtick.labelsize':'x-large',\n",
    "         'ytick.labelsize':'x-large'}\n",
    "plt.rcParams.update(params)"
   ]
  },
  {
   "cell_type": "markdown",
   "id": "different-firmware",
   "metadata": {},
   "source": [
    "## 🛠️ 5. Prepare the Data"
   ]
  },
  {
   "cell_type": "markdown",
   "id": "naval-corrections",
   "metadata": {},
   "source": [
    "We will consider the same two scenarios for **Polynomial Regression** from Sprint #5 in this sprint:\n",
    "1. Use _only_ the `median_income`.\n",
    "2. Use _all features_ except those that generated the aggregate features (`total_rooms`, `total_bedrooms`, `population`, `household`)."
   ]
  },
  {
   "cell_type": "markdown",
   "id": "caroline-massage",
   "metadata": {},
   "source": [
    "### 5.1. Load the cleaned training set"
   ]
  },
  {
   "cell_type": "markdown",
   "id": "fiscal-terminology",
   "metadata": {},
   "source": [
    "Let's consider the training and testing sets already cleaned (sprint #2):\n",
    "- Drop duplicated instances (no found)\n",
    "- Drop instances with `housing_median_age` capped at 52\n",
    "- Drop instances with `median_house_value` capped at 500001.0"
   ]
  },
  {
   "cell_type": "code",
   "execution_count": 4,
   "id": "republican-petersburg",
   "metadata": {},
   "outputs": [],
   "source": [
    "# load the cleaned training set\n",
    "housing_train = pd.read_csv('../datasets/housing_train_sprint-2.csv')"
   ]
  },
  {
   "cell_type": "code",
   "execution_count": 5,
   "id": "subtle-collection",
   "metadata": {},
   "outputs": [
    {
     "data": {
      "text/html": [
       "<div>\n",
       "<style scoped>\n",
       "    .dataframe tbody tr th:only-of-type {\n",
       "        vertical-align: middle;\n",
       "    }\n",
       "\n",
       "    .dataframe tbody tr th {\n",
       "        vertical-align: top;\n",
       "    }\n",
       "\n",
       "    .dataframe thead th {\n",
       "        text-align: right;\n",
       "    }\n",
       "</style>\n",
       "<table border=\"1\" class=\"dataframe\">\n",
       "  <thead>\n",
       "    <tr style=\"text-align: right;\">\n",
       "      <th></th>\n",
       "      <th>longitude</th>\n",
       "      <th>latitude</th>\n",
       "      <th>housing_median_age</th>\n",
       "      <th>total_rooms</th>\n",
       "      <th>total_bedrooms</th>\n",
       "      <th>population</th>\n",
       "      <th>households</th>\n",
       "      <th>median_income</th>\n",
       "      <th>median_house_value</th>\n",
       "      <th>ocean_proximity</th>\n",
       "    </tr>\n",
       "  </thead>\n",
       "  <tbody>\n",
       "    <tr>\n",
       "      <th>0</th>\n",
       "      <td>-121.37</td>\n",
       "      <td>37.06</td>\n",
       "      <td>25.0</td>\n",
       "      <td>474.0</td>\n",
       "      <td>92.0</td>\n",
       "      <td>300.0</td>\n",
       "      <td>104.0</td>\n",
       "      <td>3.8062</td>\n",
       "      <td>340900.0</td>\n",
       "      <td>INLAND</td>\n",
       "    </tr>\n",
       "    <tr>\n",
       "      <th>1</th>\n",
       "      <td>-118.39</td>\n",
       "      <td>34.14</td>\n",
       "      <td>19.0</td>\n",
       "      <td>5076.0</td>\n",
       "      <td>1034.0</td>\n",
       "      <td>2021.0</td>\n",
       "      <td>960.0</td>\n",
       "      <td>5.5683</td>\n",
       "      <td>309200.0</td>\n",
       "      <td>&lt;1H OCEAN</td>\n",
       "    </tr>\n",
       "    <tr>\n",
       "      <th>2</th>\n",
       "      <td>-122.07</td>\n",
       "      <td>37.41</td>\n",
       "      <td>26.0</td>\n",
       "      <td>1184.0</td>\n",
       "      <td>225.0</td>\n",
       "      <td>815.0</td>\n",
       "      <td>218.0</td>\n",
       "      <td>5.7657</td>\n",
       "      <td>322300.0</td>\n",
       "      <td>NEAR BAY</td>\n",
       "    </tr>\n",
       "    <tr>\n",
       "      <th>3</th>\n",
       "      <td>-121.92</td>\n",
       "      <td>36.57</td>\n",
       "      <td>42.0</td>\n",
       "      <td>3944.0</td>\n",
       "      <td>738.0</td>\n",
       "      <td>1374.0</td>\n",
       "      <td>598.0</td>\n",
       "      <td>4.1740</td>\n",
       "      <td>394400.0</td>\n",
       "      <td>NEAR OCEAN</td>\n",
       "    </tr>\n",
       "    <tr>\n",
       "      <th>4</th>\n",
       "      <td>-118.36</td>\n",
       "      <td>33.82</td>\n",
       "      <td>36.0</td>\n",
       "      <td>1083.0</td>\n",
       "      <td>187.0</td>\n",
       "      <td>522.0</td>\n",
       "      <td>187.0</td>\n",
       "      <td>5.7765</td>\n",
       "      <td>339500.0</td>\n",
       "      <td>&lt;1H OCEAN</td>\n",
       "    </tr>\n",
       "  </tbody>\n",
       "</table>\n",
       "</div>"
      ],
      "text/plain": [
       "   longitude  latitude  housing_median_age  total_rooms  total_bedrooms  \\\n",
       "0    -121.37     37.06                25.0        474.0            92.0   \n",
       "1    -118.39     34.14                19.0       5076.0          1034.0   \n",
       "2    -122.07     37.41                26.0       1184.0           225.0   \n",
       "3    -121.92     36.57                42.0       3944.0           738.0   \n",
       "4    -118.36     33.82                36.0       1083.0           187.0   \n",
       "\n",
       "   population  households  median_income  median_house_value ocean_proximity  \n",
       "0       300.0       104.0         3.8062            340900.0          INLAND  \n",
       "1      2021.0       960.0         5.5683            309200.0       <1H OCEAN  \n",
       "2       815.0       218.0         5.7657            322300.0        NEAR BAY  \n",
       "3      1374.0       598.0         4.1740            394400.0      NEAR OCEAN  \n",
       "4       522.0       187.0         5.7765            339500.0       <1H OCEAN  "
      ]
     },
     "execution_count": 5,
     "metadata": {},
     "output_type": "execute_result"
    }
   ],
   "source": [
    "housing_train.head()"
   ]
  },
  {
   "cell_type": "code",
   "execution_count": 6,
   "id": "introductory-corrections",
   "metadata": {},
   "outputs": [
    {
     "data": {
      "text/plain": [
       "(14857, 10)"
      ]
     },
     "execution_count": 6,
     "metadata": {},
     "output_type": "execute_result"
    }
   ],
   "source": [
    "housing_train.shape"
   ]
  },
  {
   "cell_type": "markdown",
   "id": "competent-thickness",
   "metadata": {},
   "source": [
    "### 5.2. Separate the _features_ and the _target outcome_"
   ]
  },
  {
   "cell_type": "code",
   "execution_count": 7,
   "id": "controlled-efficiency",
   "metadata": {},
   "outputs": [],
   "source": [
    "# store the target outcome into a numpy array\n",
    "y_train = housing_train['median_house_value'].values\n",
    "\n",
    "# overwrite the dataframe with only the features  \n",
    "housing_train = housing_train.drop(columns=['median_house_value'])"
   ]
  },
  {
   "cell_type": "markdown",
   "id": "choice-silver",
   "metadata": {},
   "source": [
    "### 5.3. Pipelines"
   ]
  },
  {
   "cell_type": "markdown",
   "id": "unlimited-mexican",
   "metadata": {},
   "source": [
    "For the sake of simplicity, let's include the **Polynomial Regression** objects (`PolynomialFeatures()` + `LinearRegression()`) into our **pipeline**. So, it is no longer _just_ dedicated to preprocessing."
   ]
  },
  {
   "cell_type": "markdown",
   "id": "knowing-speech",
   "metadata": {},
   "source": [
    "#### **Scenario 1**"
   ]
  },
  {
   "cell_type": "code",
   "execution_count": 8,
   "id": "settled-gender",
   "metadata": {},
   "outputs": [],
   "source": [
    "# pipeline for numerical\n",
    "from sklearn.pipeline import Pipeline\n",
    "from sklearn.compose import ColumnTransformer\n",
    "\n",
    "from sklearn.impute import SimpleImputer\n",
    "from sklearn.preprocessing import RobustScaler\n",
    "from sklearn.preprocessing import PolynomialFeatures\n",
    "from sklearn.linear_model import LinearRegression\n",
    "\n",
    "attributes_scenario_1 = ['median_income']\n",
    "\n",
    "pipeline_scenario_1 = Pipeline([\n",
    "    ('imputer', SimpleImputer()),   # let's evaluate the mean and median inputation\n",
    "    ('poly', PolynomialFeatures()), \n",
    "    ('scaler', RobustScaler())\n",
    "])\n",
    "\n",
    "# we will just use the ColumnTransformer because it automaticaly filters the required columns for us before performing the pipeline.\n",
    "# (name, transformer, columns)\n",
    "preprocessed_pipeline_scenario_1 = ColumnTransformer([\n",
    "    (\"numerical\", pipeline_scenario_1, attributes_scenario_1)\n",
    "])\n",
    "\n",
    "\n",
    "# full pipeline: preprocessing + model training/prediction\n",
    "full_pipeline_scenario_1 = Pipeline([\n",
    "        ('preprocessing', preprocessed_pipeline_scenario_1),\n",
    "        ('lin_regression', LinearRegression())\n",
    "])"
   ]
  },
  {
   "cell_type": "markdown",
   "id": "binary-sherman",
   "metadata": {},
   "source": [
    "#### **Scenario 2**"
   ]
  },
  {
   "cell_type": "code",
   "execution_count": 9,
   "id": "infinite-waste",
   "metadata": {},
   "outputs": [],
   "source": [
    "#### feature engineering method from the Sprint #4\n",
    "import numpy as np\n",
    "from sklearn.base import BaseEstimator, TransformerMixin\n",
    "\n",
    "# our 3 new features are based on some the features: totalrooms, \n",
    "# column index\n",
    "rooms_col_idx, bedrooms_col_idx, population_col_idx, households_col_idx = 3, 4, 5, 6\n",
    "\n",
    "class HousingFeatEngineering(BaseEstimator, TransformerMixin):\n",
    "    def __init__(self):\n",
    "        pass\n",
    "    \n",
    "    def fit(self, X, y=None):\n",
    "        return self  # nothing else to do\n",
    "    \n",
    "    def transform(self, X):\n",
    "        n_rows = X.shape[0]\n",
    "        \n",
    "        # creating the new features\n",
    "        rooms_per_household = X[:, rooms_col_idx] / X[:, households_col_idx]\n",
    "        population_per_household = X[:, population_col_idx] / X[:, households_col_idx]\n",
    "        bedrooms_per_room = X[:, bedrooms_col_idx] / X[:, rooms_col_idx]\n",
    "                \n",
    "        # to concatenate the new array as columns in our feature matrix, we need to reshape them first\n",
    "        rooms_per_household = rooms_per_household.reshape((n_rows, 1))\n",
    "        population_per_household = population_per_household.reshape((n_rows, 1))\n",
    "        bedrooms_per_room = bedrooms_per_room.reshape((n_rows, 1))\n",
    "        \n",
    "        # concatenating the new features into the feature matrix\n",
    "        X_out = np.hstack((X, rooms_per_household, population_per_household, bedrooms_per_room))\n",
    "        \n",
    "        return X_out"
   ]
  },
  {
   "cell_type": "code",
   "execution_count": 10,
   "id": "spoken-firmware",
   "metadata": {},
   "outputs": [],
   "source": [
    "import numpy as np\n",
    "from sklearn.base import BaseEstimator, TransformerMixin\n",
    "\n",
    "# our 3 new features are based on some the features: totalrooms, \n",
    "# column index\n",
    "rooms_col_idx, bedrooms_col_idx, population_col_idx, households_col_idx = 3, 4, 5, 6\n",
    "\n",
    "class DropFeatures(BaseEstimator, TransformerMixin):\n",
    "    def __init__(self, verbose=False):\n",
    "        self.verbose = verbose\n",
    "    \n",
    "    def fit(self, X, y=None):\n",
    "        return self  # nothing else to do\n",
    "    \n",
    "    def transform(self, X):\n",
    "        X_out = np.delete(X, [rooms_col_idx, bedrooms_col_idx, population_col_idx, households_col_idx], axis=1)\n",
    "        \n",
    "        # for debugging\n",
    "        if self.verbose:\n",
    "            np.set_printoptions(suppress=True)\n",
    "            print('X[:5]')\n",
    "            print(X[:5])\n",
    "            print('\\nX_out[:5]')\n",
    "            print(X_out[:5])\n",
    "        \n",
    "        return X_out"
   ]
  },
  {
   "cell_type": "code",
   "execution_count": 11,
   "id": "mechanical-crown",
   "metadata": {},
   "outputs": [],
   "source": [
    "# pipeline for numerical\n",
    "from sklearn.pipeline import Pipeline\n",
    "from sklearn.compose import ColumnTransformer\n",
    "\n",
    "from sklearn.impute import SimpleImputer\n",
    "from sklearn.preprocessing import RobustScaler\n",
    "from sklearn.preprocessing import PolynomialFeatures\n",
    "from sklearn.linear_model import LinearRegression\n",
    "\n",
    "attributes_scenario_2 = housing_train.columns.drop('ocean_proximity')\n",
    "\n",
    "pipeline_scenario_2 = Pipeline([\n",
    "    ('imputer', SimpleImputer()),  # let's evaluate the mean and median inputation\n",
    "    ('feat_engineering', HousingFeatEngineering()),\n",
    "    ('drop_features', DropFeatures(verbose=False)),\n",
    "    ('poly', PolynomialFeatures()),\n",
    "    ('scaler', RobustScaler())\n",
    "])\n",
    "\n",
    "# we will just use the ColumnTransformer because it automaticaly filters the required columns for us before performing the pipeline.\n",
    "# (name, transformer, columns)\n",
    "preprocessed_pipeline_scenario_2 = ColumnTransformer([\n",
    "    (\"numerical\", pipeline_scenario_2, attributes_scenario_2)\n",
    "])\n",
    "\n",
    "# full pipeline: preprocessing + model training/prediction\n",
    "full_pipeline_scenario_2 = Pipeline([\n",
    "        ('preprocessing', preprocessed_pipeline_scenario_2),\n",
    "        ('lin_regression', LinearRegression())\n",
    "])"
   ]
  },
  {
   "cell_type": "markdown",
   "id": "dedicated-dollar",
   "metadata": {},
   "source": [
    "## 🏋️‍♀️ 6. Train ML Algorithms"
   ]
  },
  {
   "cell_type": "markdown",
   "id": "supported-liverpool",
   "metadata": {},
   "source": [
    "### 6.1. Grid-Search (fine-tunning)\n",
    "https://scikit-learn.org/stable/modules/generated/sklearn.model_selection.GridSearchCV.html"
   ]
  },
  {
   "cell_type": "markdown",
   "id": "integrated-emperor",
   "metadata": {},
   "source": [
    "### **Scenario 1**"
   ]
  },
  {
   "cell_type": "markdown",
   "id": "assisted-commodity",
   "metadata": {},
   "source": [
    "#### **Finding out the hyperparameter key names**"
   ]
  },
  {
   "cell_type": "code",
   "execution_count": 15,
   "id": "floating-correspondence",
   "metadata": {},
   "outputs": [
    {
     "data": {
      "text/plain": [
       "{'memory': None,\n",
       " 'steps': [('preprocessing',\n",
       "   ColumnTransformer(transformers=[('numerical',\n",
       "                                    Pipeline(steps=[('imputer', SimpleImputer()),\n",
       "                                                    ('feat_engineering',\n",
       "                                                     HousingFeatEngineering()),\n",
       "                                                    ('drop_features',\n",
       "                                                     DropFeatures()),\n",
       "                                                    ('poly', PolynomialFeatures()),\n",
       "                                                    ('scaler', RobustScaler())]),\n",
       "                                    Index(['longitude', 'latitude', 'housing_median_age', 'total_rooms',\n",
       "          'total_bedrooms', 'population', 'households', 'median_income'],\n",
       "         dtype='object'))])),\n",
       "  ('lin_regression', LinearRegression())],\n",
       " 'verbose': False,\n",
       " 'preprocessing': ColumnTransformer(transformers=[('numerical',\n",
       "                                  Pipeline(steps=[('imputer', SimpleImputer()),\n",
       "                                                  ('feat_engineering',\n",
       "                                                   HousingFeatEngineering()),\n",
       "                                                  ('drop_features',\n",
       "                                                   DropFeatures()),\n",
       "                                                  ('poly', PolynomialFeatures()),\n",
       "                                                  ('scaler', RobustScaler())]),\n",
       "                                  Index(['longitude', 'latitude', 'housing_median_age', 'total_rooms',\n",
       "        'total_bedrooms', 'population', 'households', 'median_income'],\n",
       "       dtype='object'))]),\n",
       " 'lin_regression': LinearRegression(),\n",
       " 'preprocessing__n_jobs': None,\n",
       " 'preprocessing__remainder': 'drop',\n",
       " 'preprocessing__sparse_threshold': 0.3,\n",
       " 'preprocessing__transformer_weights': None,\n",
       " 'preprocessing__transformers': [('numerical',\n",
       "   Pipeline(steps=[('imputer', SimpleImputer()),\n",
       "                   ('feat_engineering', HousingFeatEngineering()),\n",
       "                   ('drop_features', DropFeatures()),\n",
       "                   ('poly', PolynomialFeatures()), ('scaler', RobustScaler())]),\n",
       "   Index(['longitude', 'latitude', 'housing_median_age', 'total_rooms',\n",
       "          'total_bedrooms', 'population', 'households', 'median_income'],\n",
       "         dtype='object'))],\n",
       " 'preprocessing__verbose': False,\n",
       " 'preprocessing__numerical': Pipeline(steps=[('imputer', SimpleImputer()),\n",
       "                 ('feat_engineering', HousingFeatEngineering()),\n",
       "                 ('drop_features', DropFeatures()),\n",
       "                 ('poly', PolynomialFeatures()), ('scaler', RobustScaler())]),\n",
       " 'preprocessing__numerical__memory': None,\n",
       " 'preprocessing__numerical__steps': [('imputer', SimpleImputer()),\n",
       "  ('feat_engineering', HousingFeatEngineering()),\n",
       "  ('drop_features', DropFeatures()),\n",
       "  ('poly', PolynomialFeatures()),\n",
       "  ('scaler', RobustScaler())],\n",
       " 'preprocessing__numerical__verbose': False,\n",
       " 'preprocessing__numerical__imputer': SimpleImputer(),\n",
       " 'preprocessing__numerical__feat_engineering': HousingFeatEngineering(),\n",
       " 'preprocessing__numerical__drop_features': DropFeatures(),\n",
       " 'preprocessing__numerical__poly': PolynomialFeatures(),\n",
       " 'preprocessing__numerical__scaler': RobustScaler(),\n",
       " 'preprocessing__numerical__imputer__add_indicator': False,\n",
       " 'preprocessing__numerical__imputer__copy': True,\n",
       " 'preprocessing__numerical__imputer__fill_value': None,\n",
       " 'preprocessing__numerical__imputer__missing_values': nan,\n",
       " 'preprocessing__numerical__imputer__strategy': 'mean',\n",
       " 'preprocessing__numerical__imputer__verbose': 0,\n",
       " 'preprocessing__numerical__drop_features__verbose': False,\n",
       " 'preprocessing__numerical__poly__degree': 2,\n",
       " 'preprocessing__numerical__poly__include_bias': True,\n",
       " 'preprocessing__numerical__poly__interaction_only': False,\n",
       " 'preprocessing__numerical__poly__order': 'C',\n",
       " 'preprocessing__numerical__scaler__copy': True,\n",
       " 'preprocessing__numerical__scaler__quantile_range': (25.0, 75.0),\n",
       " 'preprocessing__numerical__scaler__unit_variance': False,\n",
       " 'preprocessing__numerical__scaler__with_centering': True,\n",
       " 'preprocessing__numerical__scaler__with_scaling': True,\n",
       " 'lin_regression__copy_X': True,\n",
       " 'lin_regression__fit_intercept': True,\n",
       " 'lin_regression__n_jobs': None,\n",
       " 'lin_regression__normalize': False,\n",
       " 'lin_regression__positive': False}"
      ]
     },
     "execution_count": 15,
     "metadata": {},
     "output_type": "execute_result"
    }
   ],
   "source": [
    "full_pipeline_scenario_2.get_params()"
   ]
  },
  {
   "cell_type": "markdown",
   "id": "pending-indie",
   "metadata": {},
   "source": [
    "#### **Grid-search**"
   ]
  },
  {
   "cell_type": "code",
   "execution_count": 19,
   "id": "retired-swift",
   "metadata": {},
   "outputs": [
    {
     "name": "stdout",
     "output_type": "stream",
     "text": [
      "Fitting 5 folds for each of 40 candidates, totalling 200 fits\n"
     ]
    },
    {
     "data": {
      "text/plain": [
       "GridSearchCV(cv=5,\n",
       "             estimator=Pipeline(steps=[('preprocessing',\n",
       "                                        ColumnTransformer(transformers=[('numerical',\n",
       "                                                                         Pipeline(steps=[('imputer',\n",
       "                                                                                          SimpleImputer()),\n",
       "                                                                                         ('poly',\n",
       "                                                                                          PolynomialFeatures()),\n",
       "                                                                                         ('scaler',\n",
       "                                                                                          RobustScaler())]),\n",
       "                                                                         ['median_income'])])),\n",
       "                                       ('lin_regression', LinearRegression())]),\n",
       "             param_grid=[{'preprocessing__numerical__imputer__strategy': ['mean',\n",
       "                                                                          'median'],\n",
       "                          'preprocessing__numerical__poly__degree': [2, 3, 10,\n",
       "                                                                     20, 30],\n",
       "                          'preprocessing__numerical__poly__include_bias': [False,\n",
       "                                                                           True],\n",
       "                          'preprocessing__numerical__poly__interaction_only': [False,\n",
       "                                                                               True]}],\n",
       "             return_train_score=True, scoring='neg_mean_squared_error',\n",
       "             verbose=True)"
      ]
     },
     "execution_count": 19,
     "metadata": {},
     "output_type": "execute_result"
    }
   ],
   "source": [
    "from sklearn.model_selection import GridSearchCV\n",
    "\n",
    "# search space\n",
    "param_grid_scenario_1 = [\n",
    "    {\n",
    "        'preprocessing__numerical__imputer__strategy': ['mean', 'median'],\n",
    "        'preprocessing__numerical__poly__degree': [2, 3, 10, 20, 30],\n",
    "        'preprocessing__numerical__poly__include_bias': [False, True],\n",
    "        'preprocessing__numerical__poly__interaction_only': [False, True]\n",
    "    }\n",
    "]\n",
    "\n",
    "grid_search_scenario_1 = GridSearchCV(full_pipeline_scenario_1, param_grid_scenario_1, cv=5, scoring='neg_mean_squared_error', return_train_score=True, verbose=True)\n",
    "grid_search_scenario_1.fit(housing_train, y_train)"
   ]
  },
  {
   "cell_type": "code",
   "execution_count": 20,
   "id": "abstract-aberdeen",
   "metadata": {},
   "outputs": [
    {
     "name": "stdout",
     "output_type": "stream",
     "text": [
      "71691.10772210758 {'preprocessing__numerical__imputer__strategy': 'mean', 'preprocessing__numerical__poly__degree': 2, 'preprocessing__numerical__poly__include_bias': False, 'preprocessing__numerical__poly__interaction_only': False}\n",
      "71676.82921015851 {'preprocessing__numerical__imputer__strategy': 'mean', 'preprocessing__numerical__poly__degree': 2, 'preprocessing__numerical__poly__include_bias': False, 'preprocessing__numerical__poly__interaction_only': True}\n",
      "71691.10772210758 {'preprocessing__numerical__imputer__strategy': 'mean', 'preprocessing__numerical__poly__degree': 2, 'preprocessing__numerical__poly__include_bias': True, 'preprocessing__numerical__poly__interaction_only': False}\n",
      "71676.82921015851 {'preprocessing__numerical__imputer__strategy': 'mean', 'preprocessing__numerical__poly__degree': 2, 'preprocessing__numerical__poly__include_bias': True, 'preprocessing__numerical__poly__interaction_only': True}\n",
      "71456.56128983348 {'preprocessing__numerical__imputer__strategy': 'mean', 'preprocessing__numerical__poly__degree': 3, 'preprocessing__numerical__poly__include_bias': False, 'preprocessing__numerical__poly__interaction_only': False}\n",
      "71676.82921015851 {'preprocessing__numerical__imputer__strategy': 'mean', 'preprocessing__numerical__poly__degree': 3, 'preprocessing__numerical__poly__include_bias': False, 'preprocessing__numerical__poly__interaction_only': True}\n",
      "71456.56128983348 {'preprocessing__numerical__imputer__strategy': 'mean', 'preprocessing__numerical__poly__degree': 3, 'preprocessing__numerical__poly__include_bias': True, 'preprocessing__numerical__poly__interaction_only': False}\n",
      "71676.82921015851 {'preprocessing__numerical__imputer__strategy': 'mean', 'preprocessing__numerical__poly__degree': 3, 'preprocessing__numerical__poly__include_bias': True, 'preprocessing__numerical__poly__interaction_only': True}\n",
      "71298.70981493036 {'preprocessing__numerical__imputer__strategy': 'mean', 'preprocessing__numerical__poly__degree': 10, 'preprocessing__numerical__poly__include_bias': False, 'preprocessing__numerical__poly__interaction_only': False}\n",
      "71676.82921015851 {'preprocessing__numerical__imputer__strategy': 'mean', 'preprocessing__numerical__poly__degree': 10, 'preprocessing__numerical__poly__include_bias': False, 'preprocessing__numerical__poly__interaction_only': True}\n",
      "71298.70981488864 {'preprocessing__numerical__imputer__strategy': 'mean', 'preprocessing__numerical__poly__degree': 10, 'preprocessing__numerical__poly__include_bias': True, 'preprocessing__numerical__poly__interaction_only': False}\n",
      "71676.82921015851 {'preprocessing__numerical__imputer__strategy': 'mean', 'preprocessing__numerical__poly__degree': 10, 'preprocessing__numerical__poly__include_bias': True, 'preprocessing__numerical__poly__interaction_only': True}\n",
      "72652.82744524555 {'preprocessing__numerical__imputer__strategy': 'mean', 'preprocessing__numerical__poly__degree': 20, 'preprocessing__numerical__poly__include_bias': False, 'preprocessing__numerical__poly__interaction_only': False}\n",
      "71676.82921015851 {'preprocessing__numerical__imputer__strategy': 'mean', 'preprocessing__numerical__poly__degree': 20, 'preprocessing__numerical__poly__include_bias': False, 'preprocessing__numerical__poly__interaction_only': True}\n",
      "72651.43313508132 {'preprocessing__numerical__imputer__strategy': 'mean', 'preprocessing__numerical__poly__degree': 20, 'preprocessing__numerical__poly__include_bias': True, 'preprocessing__numerical__poly__interaction_only': False}\n",
      "71676.82921015851 {'preprocessing__numerical__imputer__strategy': 'mean', 'preprocessing__numerical__poly__degree': 20, 'preprocessing__numerical__poly__include_bias': True, 'preprocessing__numerical__poly__interaction_only': True}\n",
      "81221.09043881847 {'preprocessing__numerical__imputer__strategy': 'mean', 'preprocessing__numerical__poly__degree': 30, 'preprocessing__numerical__poly__include_bias': False, 'preprocessing__numerical__poly__interaction_only': False}\n",
      "71676.82921015851 {'preprocessing__numerical__imputer__strategy': 'mean', 'preprocessing__numerical__poly__degree': 30, 'preprocessing__numerical__poly__include_bias': False, 'preprocessing__numerical__poly__interaction_only': True}\n",
      "77288.0554444948 {'preprocessing__numerical__imputer__strategy': 'mean', 'preprocessing__numerical__poly__degree': 30, 'preprocessing__numerical__poly__include_bias': True, 'preprocessing__numerical__poly__interaction_only': False}\n",
      "71676.82921015851 {'preprocessing__numerical__imputer__strategy': 'mean', 'preprocessing__numerical__poly__degree': 30, 'preprocessing__numerical__poly__include_bias': True, 'preprocessing__numerical__poly__interaction_only': True}\n",
      "71691.10772210758 {'preprocessing__numerical__imputer__strategy': 'median', 'preprocessing__numerical__poly__degree': 2, 'preprocessing__numerical__poly__include_bias': False, 'preprocessing__numerical__poly__interaction_only': False}\n",
      "71676.82921015851 {'preprocessing__numerical__imputer__strategy': 'median', 'preprocessing__numerical__poly__degree': 2, 'preprocessing__numerical__poly__include_bias': False, 'preprocessing__numerical__poly__interaction_only': True}\n",
      "71691.10772210758 {'preprocessing__numerical__imputer__strategy': 'median', 'preprocessing__numerical__poly__degree': 2, 'preprocessing__numerical__poly__include_bias': True, 'preprocessing__numerical__poly__interaction_only': False}\n",
      "71676.82921015851 {'preprocessing__numerical__imputer__strategy': 'median', 'preprocessing__numerical__poly__degree': 2, 'preprocessing__numerical__poly__include_bias': True, 'preprocessing__numerical__poly__interaction_only': True}\n",
      "71456.56128983348 {'preprocessing__numerical__imputer__strategy': 'median', 'preprocessing__numerical__poly__degree': 3, 'preprocessing__numerical__poly__include_bias': False, 'preprocessing__numerical__poly__interaction_only': False}\n",
      "71676.82921015851 {'preprocessing__numerical__imputer__strategy': 'median', 'preprocessing__numerical__poly__degree': 3, 'preprocessing__numerical__poly__include_bias': False, 'preprocessing__numerical__poly__interaction_only': True}\n",
      "71456.56128983348 {'preprocessing__numerical__imputer__strategy': 'median', 'preprocessing__numerical__poly__degree': 3, 'preprocessing__numerical__poly__include_bias': True, 'preprocessing__numerical__poly__interaction_only': False}\n",
      "71676.82921015851 {'preprocessing__numerical__imputer__strategy': 'median', 'preprocessing__numerical__poly__degree': 3, 'preprocessing__numerical__poly__include_bias': True, 'preprocessing__numerical__poly__interaction_only': True}\n",
      "71298.70981493036 {'preprocessing__numerical__imputer__strategy': 'median', 'preprocessing__numerical__poly__degree': 10, 'preprocessing__numerical__poly__include_bias': False, 'preprocessing__numerical__poly__interaction_only': False}\n",
      "71676.82921015851 {'preprocessing__numerical__imputer__strategy': 'median', 'preprocessing__numerical__poly__degree': 10, 'preprocessing__numerical__poly__include_bias': False, 'preprocessing__numerical__poly__interaction_only': True}\n",
      "71298.70981488864 {'preprocessing__numerical__imputer__strategy': 'median', 'preprocessing__numerical__poly__degree': 10, 'preprocessing__numerical__poly__include_bias': True, 'preprocessing__numerical__poly__interaction_only': False}\n",
      "71676.82921015851 {'preprocessing__numerical__imputer__strategy': 'median', 'preprocessing__numerical__poly__degree': 10, 'preprocessing__numerical__poly__include_bias': True, 'preprocessing__numerical__poly__interaction_only': True}\n",
      "72652.82744524555 {'preprocessing__numerical__imputer__strategy': 'median', 'preprocessing__numerical__poly__degree': 20, 'preprocessing__numerical__poly__include_bias': False, 'preprocessing__numerical__poly__interaction_only': False}\n",
      "71676.82921015851 {'preprocessing__numerical__imputer__strategy': 'median', 'preprocessing__numerical__poly__degree': 20, 'preprocessing__numerical__poly__include_bias': False, 'preprocessing__numerical__poly__interaction_only': True}\n",
      "72651.43313508132 {'preprocessing__numerical__imputer__strategy': 'median', 'preprocessing__numerical__poly__degree': 20, 'preprocessing__numerical__poly__include_bias': True, 'preprocessing__numerical__poly__interaction_only': False}\n",
      "71676.82921015851 {'preprocessing__numerical__imputer__strategy': 'median', 'preprocessing__numerical__poly__degree': 20, 'preprocessing__numerical__poly__include_bias': True, 'preprocessing__numerical__poly__interaction_only': True}\n",
      "81221.09043881847 {'preprocessing__numerical__imputer__strategy': 'median', 'preprocessing__numerical__poly__degree': 30, 'preprocessing__numerical__poly__include_bias': False, 'preprocessing__numerical__poly__interaction_only': False}\n",
      "71676.82921015851 {'preprocessing__numerical__imputer__strategy': 'median', 'preprocessing__numerical__poly__degree': 30, 'preprocessing__numerical__poly__include_bias': False, 'preprocessing__numerical__poly__interaction_only': True}\n",
      "77288.0554444948 {'preprocessing__numerical__imputer__strategy': 'median', 'preprocessing__numerical__poly__degree': 30, 'preprocessing__numerical__poly__include_bias': True, 'preprocessing__numerical__poly__interaction_only': False}\n",
      "71676.82921015851 {'preprocessing__numerical__imputer__strategy': 'median', 'preprocessing__numerical__poly__degree': 30, 'preprocessing__numerical__poly__include_bias': True, 'preprocessing__numerical__poly__interaction_only': True}\n"
     ]
    }
   ],
   "source": [
    "cvres = grid_search_scenario_1.cv_results_\n",
    "\n",
    "for mean_score, params in zip(cvres[\"mean_test_score\"], cvres[\"params\"]):\n",
    "    print(np.sqrt(-mean_score), params)"
   ]
  },
  {
   "cell_type": "code",
   "execution_count": 22,
   "id": "alone-cooking",
   "metadata": {},
   "outputs": [
    {
     "data": {
      "text/plain": [
       "{'preprocessing__numerical__imputer__strategy': 'mean',\n",
       " 'preprocessing__numerical__poly__degree': 10,\n",
       " 'preprocessing__numerical__poly__include_bias': True,\n",
       " 'preprocessing__numerical__poly__interaction_only': False}"
      ]
     },
     "execution_count": 22,
     "metadata": {},
     "output_type": "execute_result"
    }
   ],
   "source": [
    "# best params\n",
    "grid_search_scenario_1.best_params_"
   ]
  },
  {
   "cell_type": "code",
   "execution_count": 23,
   "id": "destroyed-enough",
   "metadata": {},
   "outputs": [
    {
     "data": {
      "text/plain": [
       "Pipeline(steps=[('preprocessing',\n",
       "                 ColumnTransformer(transformers=[('numerical',\n",
       "                                                  Pipeline(steps=[('imputer',\n",
       "                                                                   SimpleImputer()),\n",
       "                                                                  ('poly',\n",
       "                                                                   PolynomialFeatures(degree=10)),\n",
       "                                                                  ('scaler',\n",
       "                                                                   RobustScaler())]),\n",
       "                                                  ['median_income'])])),\n",
       "                ('lin_regression', LinearRegression())])"
      ]
     },
     "execution_count": 23,
     "metadata": {},
     "output_type": "execute_result"
    }
   ],
   "source": [
    "# best estimator\n",
    "# if refit=True, it returns a model trained with the full training set with the best hyperparameters\n",
    "best_model = grid_search_scenario_1.best_estimator_\n",
    "best_model"
   ]
  },
  {
   "cell_type": "code",
   "execution_count": 25,
   "id": "featured-delay",
   "metadata": {},
   "outputs": [
    {
     "data": {
      "text/plain": [
       "71298.70981488864"
      ]
     },
     "execution_count": 25,
     "metadata": {},
     "output_type": "execute_result"
    }
   ],
   "source": [
    "# get the (approximated) RMSE\n",
    "np.sqrt(-grid_search_scenario_1.best_score_)"
   ]
  },
  {
   "cell_type": "code",
   "execution_count": 29,
   "id": "enclosed-lender",
   "metadata": {},
   "outputs": [
    {
     "name": "stdout",
     "output_type": "stream",
     "text": [
      "Best score: 71298.70981488864 +- 11036.55480092935\n"
     ]
    }
   ],
   "source": [
    "# get the approximated RMSE and its standard deviation\n",
    "best_index = grid_search_scenario_1.best_index_\n",
    "best_score = np.sqrt(-grid_search_scenario_1.cv_results_['mean_test_score'][best_index])\n",
    "best_score_std = np.sqrt(grid_search_scenario_1.cv_results_['std_test_score'][best_index])\n",
    "\n",
    "print(f'Best score: {best_score} +- {best_score_std}')"
   ]
  },
  {
   "cell_type": "markdown",
   "id": "charitable-armenia",
   "metadata": {},
   "source": [
    "<br/>\n",
    "\n",
    "The **cross validation score** from **the best model** (\\\\$71,298.70 ± \\\\$11,036.55) is _slightly better_ than the score of Scenario 1 without fine-tunning (\\\\$71,671.86 ± \\$1,479.30) from Sprint #5, its results are more unstable (see its _standard deviation_). <br/>\n",
    "Moreover, its **cross validation score** keeps being _considerably higher_ than that of `Linear Regression` from the previous Sprint (\\\\$58,371.04 ± \\$1,757.91)."
   ]
  },
  {
   "cell_type": "markdown",
   "id": "revolutionary-shield",
   "metadata": {},
   "source": [
    "<table align=\"left\" class=\"dashed-box\">\n",
    "<tr>\n",
    "    <td>💡</td>\n",
    "    <td>Mathematically, the correct way to estimate the <b>cross-validation RMSE</b> and its <b>standard deviation</b> is to apply the <i>square root</i> for the each split <i>negative MSE score</i>, and then compute the <i>mean</i> and <i>std</i> with these new scores.</td>\n",
    "</tr>\n",
    "<tr>\n",
    "    <td></td>\n",
    "    <td>For that, we need to 'debug' the _cross validation results.</td>\n",
    "</tr>\n",
    "</table><br/><br/>"
   ]
  },
  {
   "cell_type": "code",
   "execution_count": 30,
   "id": "radical-captain",
   "metadata": {},
   "outputs": [
    {
     "data": {
      "text/plain": [
       "{'mean_fit_time': array([0.04389257, 0.0312037 , 0.04337597, 0.03931751, 0.05003886,\n",
       "        0.03103323, 0.04913592, 0.03930283, 0.09403558, 0.03067479,\n",
       "        0.09571252, 0.03949265, 0.16667576, 0.03882494, 0.17918296,\n",
       "        0.03862162, 0.23744879, 0.03098292, 0.24133058, 0.03923593,\n",
       "        0.04371438, 0.0360641 , 0.04754505, 0.05869765, 0.05693917,\n",
       "        0.03424091, 0.05453649, 0.04435678, 0.09955912, 0.03554168,\n",
       "        0.1055851 , 0.04933825, 0.17502303, 0.03775959, 0.19076486,\n",
       "        0.05018954, 0.26259174, 0.03816438, 0.26601315, 0.05071764]),\n",
       " 'std_fit_time': array([0.00230991, 0.00240237, 0.00235471, 0.00077957, 0.00516652,\n",
       "        0.00244465, 0.00231816, 0.00161656, 0.0033745 , 0.00067781,\n",
       "        0.00463274, 0.00141051, 0.00903652, 0.00640528, 0.01728443,\n",
       "        0.00033574, 0.0108864 , 0.00186591, 0.00802115, 0.00103014,\n",
       "        0.00050144, 0.00481173, 0.00262071, 0.00752805, 0.00622793,\n",
       "        0.00121711, 0.00195887, 0.00166727, 0.00235213, 0.00327751,\n",
       "        0.00826675, 0.00437221, 0.00531736, 0.00487778, 0.02151185,\n",
       "        0.00603854, 0.01180993, 0.00435445, 0.01230492, 0.00557769]),\n",
       " 'mean_score_time': array([0.01219172, 0.00974002, 0.01045671, 0.01093221, 0.01146212,\n",
       "        0.0096261 , 0.010392  , 0.01063633, 0.01220531, 0.00963254,\n",
       "        0.01243629, 0.01055093, 0.01468697, 0.01203303, 0.01804552,\n",
       "        0.0107851 , 0.01541047, 0.00986257, 0.01711617, 0.01051226,\n",
       "        0.01058884, 0.01008554, 0.01041436, 0.01440701, 0.01212125,\n",
       "        0.00967765, 0.01086059, 0.01103425, 0.01286516, 0.00994482,\n",
       "        0.01305561, 0.01130962, 0.01553659, 0.01352806, 0.01833625,\n",
       "        0.0120554 , 0.01721215, 0.01067176, 0.01908975, 0.01295524]),\n",
       " 'std_score_time': array([0.00331601, 0.00093593, 0.00067674, 0.00107001, 0.00133947,\n",
       "        0.0007502 , 0.00047492, 0.00057574, 0.00022445, 0.00034734,\n",
       "        0.00033745, 0.00050144, 0.00182654, 0.00312901, 0.0024566 ,\n",
       "        0.00084425, 0.00019935, 0.0011185 , 0.00186639, 0.00022776,\n",
       "        0.00025267, 0.0012809 , 0.00061642, 0.00265302, 0.00079304,\n",
       "        0.00047405, 0.00041142, 0.00043938, 0.00090419, 0.00102837,\n",
       "        0.00101122, 0.00084825, 0.00176604, 0.00612849, 0.00679452,\n",
       "        0.00062711, 0.00108232, 0.00121182, 0.00366464, 0.00203468]),\n",
       " 'param_preprocessing__numerical__imputer__strategy': masked_array(data=['mean', 'mean', 'mean', 'mean', 'mean', 'mean', 'mean',\n",
       "                    'mean', 'mean', 'mean', 'mean', 'mean', 'mean', 'mean',\n",
       "                    'mean', 'mean', 'mean', 'mean', 'mean', 'mean',\n",
       "                    'median', 'median', 'median', 'median', 'median',\n",
       "                    'median', 'median', 'median', 'median', 'median',\n",
       "                    'median', 'median', 'median', 'median', 'median',\n",
       "                    'median', 'median', 'median', 'median', 'median'],\n",
       "              mask=[False, False, False, False, False, False, False, False,\n",
       "                    False, False, False, False, False, False, False, False,\n",
       "                    False, False, False, False, False, False, False, False,\n",
       "                    False, False, False, False, False, False, False, False,\n",
       "                    False, False, False, False, False, False, False, False],\n",
       "        fill_value='?',\n",
       "             dtype=object),\n",
       " 'param_preprocessing__numerical__poly__degree': masked_array(data=[2, 2, 2, 2, 3, 3, 3, 3, 10, 10, 10, 10, 20, 20, 20, 20,\n",
       "                    30, 30, 30, 30, 2, 2, 2, 2, 3, 3, 3, 3, 10, 10, 10, 10,\n",
       "                    20, 20, 20, 20, 30, 30, 30, 30],\n",
       "              mask=[False, False, False, False, False, False, False, False,\n",
       "                    False, False, False, False, False, False, False, False,\n",
       "                    False, False, False, False, False, False, False, False,\n",
       "                    False, False, False, False, False, False, False, False,\n",
       "                    False, False, False, False, False, False, False, False],\n",
       "        fill_value='?',\n",
       "             dtype=object),\n",
       " 'param_preprocessing__numerical__poly__include_bias': masked_array(data=[False, False, True, True, False, False, True, True,\n",
       "                    False, False, True, True, False, False, True, True,\n",
       "                    False, False, True, True, False, False, True, True,\n",
       "                    False, False, True, True, False, False, True, True,\n",
       "                    False, False, True, True, False, False, True, True],\n",
       "              mask=[False, False, False, False, False, False, False, False,\n",
       "                    False, False, False, False, False, False, False, False,\n",
       "                    False, False, False, False, False, False, False, False,\n",
       "                    False, False, False, False, False, False, False, False,\n",
       "                    False, False, False, False, False, False, False, False],\n",
       "        fill_value='?',\n",
       "             dtype=object),\n",
       " 'param_preprocessing__numerical__poly__interaction_only': masked_array(data=[False, True, False, True, False, True, False, True,\n",
       "                    False, True, False, True, False, True, False, True,\n",
       "                    False, True, False, True, False, True, False, True,\n",
       "                    False, True, False, True, False, True, False, True,\n",
       "                    False, True, False, True, False, True, False, True],\n",
       "              mask=[False, False, False, False, False, False, False, False,\n",
       "                    False, False, False, False, False, False, False, False,\n",
       "                    False, False, False, False, False, False, False, False,\n",
       "                    False, False, False, False, False, False, False, False,\n",
       "                    False, False, False, False, False, False, False, False],\n",
       "        fill_value='?',\n",
       "             dtype=object),\n",
       " 'params': [{'preprocessing__numerical__imputer__strategy': 'mean',\n",
       "   'preprocessing__numerical__poly__degree': 2,\n",
       "   'preprocessing__numerical__poly__include_bias': False,\n",
       "   'preprocessing__numerical__poly__interaction_only': False},\n",
       "  {'preprocessing__numerical__imputer__strategy': 'mean',\n",
       "   'preprocessing__numerical__poly__degree': 2,\n",
       "   'preprocessing__numerical__poly__include_bias': False,\n",
       "   'preprocessing__numerical__poly__interaction_only': True},\n",
       "  {'preprocessing__numerical__imputer__strategy': 'mean',\n",
       "   'preprocessing__numerical__poly__degree': 2,\n",
       "   'preprocessing__numerical__poly__include_bias': True,\n",
       "   'preprocessing__numerical__poly__interaction_only': False},\n",
       "  {'preprocessing__numerical__imputer__strategy': 'mean',\n",
       "   'preprocessing__numerical__poly__degree': 2,\n",
       "   'preprocessing__numerical__poly__include_bias': True,\n",
       "   'preprocessing__numerical__poly__interaction_only': True},\n",
       "  {'preprocessing__numerical__imputer__strategy': 'mean',\n",
       "   'preprocessing__numerical__poly__degree': 3,\n",
       "   'preprocessing__numerical__poly__include_bias': False,\n",
       "   'preprocessing__numerical__poly__interaction_only': False},\n",
       "  {'preprocessing__numerical__imputer__strategy': 'mean',\n",
       "   'preprocessing__numerical__poly__degree': 3,\n",
       "   'preprocessing__numerical__poly__include_bias': False,\n",
       "   'preprocessing__numerical__poly__interaction_only': True},\n",
       "  {'preprocessing__numerical__imputer__strategy': 'mean',\n",
       "   'preprocessing__numerical__poly__degree': 3,\n",
       "   'preprocessing__numerical__poly__include_bias': True,\n",
       "   'preprocessing__numerical__poly__interaction_only': False},\n",
       "  {'preprocessing__numerical__imputer__strategy': 'mean',\n",
       "   'preprocessing__numerical__poly__degree': 3,\n",
       "   'preprocessing__numerical__poly__include_bias': True,\n",
       "   'preprocessing__numerical__poly__interaction_only': True},\n",
       "  {'preprocessing__numerical__imputer__strategy': 'mean',\n",
       "   'preprocessing__numerical__poly__degree': 10,\n",
       "   'preprocessing__numerical__poly__include_bias': False,\n",
       "   'preprocessing__numerical__poly__interaction_only': False},\n",
       "  {'preprocessing__numerical__imputer__strategy': 'mean',\n",
       "   'preprocessing__numerical__poly__degree': 10,\n",
       "   'preprocessing__numerical__poly__include_bias': False,\n",
       "   'preprocessing__numerical__poly__interaction_only': True},\n",
       "  {'preprocessing__numerical__imputer__strategy': 'mean',\n",
       "   'preprocessing__numerical__poly__degree': 10,\n",
       "   'preprocessing__numerical__poly__include_bias': True,\n",
       "   'preprocessing__numerical__poly__interaction_only': False},\n",
       "  {'preprocessing__numerical__imputer__strategy': 'mean',\n",
       "   'preprocessing__numerical__poly__degree': 10,\n",
       "   'preprocessing__numerical__poly__include_bias': True,\n",
       "   'preprocessing__numerical__poly__interaction_only': True},\n",
       "  {'preprocessing__numerical__imputer__strategy': 'mean',\n",
       "   'preprocessing__numerical__poly__degree': 20,\n",
       "   'preprocessing__numerical__poly__include_bias': False,\n",
       "   'preprocessing__numerical__poly__interaction_only': False},\n",
       "  {'preprocessing__numerical__imputer__strategy': 'mean',\n",
       "   'preprocessing__numerical__poly__degree': 20,\n",
       "   'preprocessing__numerical__poly__include_bias': False,\n",
       "   'preprocessing__numerical__poly__interaction_only': True},\n",
       "  {'preprocessing__numerical__imputer__strategy': 'mean',\n",
       "   'preprocessing__numerical__poly__degree': 20,\n",
       "   'preprocessing__numerical__poly__include_bias': True,\n",
       "   'preprocessing__numerical__poly__interaction_only': False},\n",
       "  {'preprocessing__numerical__imputer__strategy': 'mean',\n",
       "   'preprocessing__numerical__poly__degree': 20,\n",
       "   'preprocessing__numerical__poly__include_bias': True,\n",
       "   'preprocessing__numerical__poly__interaction_only': True},\n",
       "  {'preprocessing__numerical__imputer__strategy': 'mean',\n",
       "   'preprocessing__numerical__poly__degree': 30,\n",
       "   'preprocessing__numerical__poly__include_bias': False,\n",
       "   'preprocessing__numerical__poly__interaction_only': False},\n",
       "  {'preprocessing__numerical__imputer__strategy': 'mean',\n",
       "   'preprocessing__numerical__poly__degree': 30,\n",
       "   'preprocessing__numerical__poly__include_bias': False,\n",
       "   'preprocessing__numerical__poly__interaction_only': True},\n",
       "  {'preprocessing__numerical__imputer__strategy': 'mean',\n",
       "   'preprocessing__numerical__poly__degree': 30,\n",
       "   'preprocessing__numerical__poly__include_bias': True,\n",
       "   'preprocessing__numerical__poly__interaction_only': False},\n",
       "  {'preprocessing__numerical__imputer__strategy': 'mean',\n",
       "   'preprocessing__numerical__poly__degree': 30,\n",
       "   'preprocessing__numerical__poly__include_bias': True,\n",
       "   'preprocessing__numerical__poly__interaction_only': True},\n",
       "  {'preprocessing__numerical__imputer__strategy': 'median',\n",
       "   'preprocessing__numerical__poly__degree': 2,\n",
       "   'preprocessing__numerical__poly__include_bias': False,\n",
       "   'preprocessing__numerical__poly__interaction_only': False},\n",
       "  {'preprocessing__numerical__imputer__strategy': 'median',\n",
       "   'preprocessing__numerical__poly__degree': 2,\n",
       "   'preprocessing__numerical__poly__include_bias': False,\n",
       "   'preprocessing__numerical__poly__interaction_only': True},\n",
       "  {'preprocessing__numerical__imputer__strategy': 'median',\n",
       "   'preprocessing__numerical__poly__degree': 2,\n",
       "   'preprocessing__numerical__poly__include_bias': True,\n",
       "   'preprocessing__numerical__poly__interaction_only': False},\n",
       "  {'preprocessing__numerical__imputer__strategy': 'median',\n",
       "   'preprocessing__numerical__poly__degree': 2,\n",
       "   'preprocessing__numerical__poly__include_bias': True,\n",
       "   'preprocessing__numerical__poly__interaction_only': True},\n",
       "  {'preprocessing__numerical__imputer__strategy': 'median',\n",
       "   'preprocessing__numerical__poly__degree': 3,\n",
       "   'preprocessing__numerical__poly__include_bias': False,\n",
       "   'preprocessing__numerical__poly__interaction_only': False},\n",
       "  {'preprocessing__numerical__imputer__strategy': 'median',\n",
       "   'preprocessing__numerical__poly__degree': 3,\n",
       "   'preprocessing__numerical__poly__include_bias': False,\n",
       "   'preprocessing__numerical__poly__interaction_only': True},\n",
       "  {'preprocessing__numerical__imputer__strategy': 'median',\n",
       "   'preprocessing__numerical__poly__degree': 3,\n",
       "   'preprocessing__numerical__poly__include_bias': True,\n",
       "   'preprocessing__numerical__poly__interaction_only': False},\n",
       "  {'preprocessing__numerical__imputer__strategy': 'median',\n",
       "   'preprocessing__numerical__poly__degree': 3,\n",
       "   'preprocessing__numerical__poly__include_bias': True,\n",
       "   'preprocessing__numerical__poly__interaction_only': True},\n",
       "  {'preprocessing__numerical__imputer__strategy': 'median',\n",
       "   'preprocessing__numerical__poly__degree': 10,\n",
       "   'preprocessing__numerical__poly__include_bias': False,\n",
       "   'preprocessing__numerical__poly__interaction_only': False},\n",
       "  {'preprocessing__numerical__imputer__strategy': 'median',\n",
       "   'preprocessing__numerical__poly__degree': 10,\n",
       "   'preprocessing__numerical__poly__include_bias': False,\n",
       "   'preprocessing__numerical__poly__interaction_only': True},\n",
       "  {'preprocessing__numerical__imputer__strategy': 'median',\n",
       "   'preprocessing__numerical__poly__degree': 10,\n",
       "   'preprocessing__numerical__poly__include_bias': True,\n",
       "   'preprocessing__numerical__poly__interaction_only': False},\n",
       "  {'preprocessing__numerical__imputer__strategy': 'median',\n",
       "   'preprocessing__numerical__poly__degree': 10,\n",
       "   'preprocessing__numerical__poly__include_bias': True,\n",
       "   'preprocessing__numerical__poly__interaction_only': True},\n",
       "  {'preprocessing__numerical__imputer__strategy': 'median',\n",
       "   'preprocessing__numerical__poly__degree': 20,\n",
       "   'preprocessing__numerical__poly__include_bias': False,\n",
       "   'preprocessing__numerical__poly__interaction_only': False},\n",
       "  {'preprocessing__numerical__imputer__strategy': 'median',\n",
       "   'preprocessing__numerical__poly__degree': 20,\n",
       "   'preprocessing__numerical__poly__include_bias': False,\n",
       "   'preprocessing__numerical__poly__interaction_only': True},\n",
       "  {'preprocessing__numerical__imputer__strategy': 'median',\n",
       "   'preprocessing__numerical__poly__degree': 20,\n",
       "   'preprocessing__numerical__poly__include_bias': True,\n",
       "   'preprocessing__numerical__poly__interaction_only': False},\n",
       "  {'preprocessing__numerical__imputer__strategy': 'median',\n",
       "   'preprocessing__numerical__poly__degree': 20,\n",
       "   'preprocessing__numerical__poly__include_bias': True,\n",
       "   'preprocessing__numerical__poly__interaction_only': True},\n",
       "  {'preprocessing__numerical__imputer__strategy': 'median',\n",
       "   'preprocessing__numerical__poly__degree': 30,\n",
       "   'preprocessing__numerical__poly__include_bias': False,\n",
       "   'preprocessing__numerical__poly__interaction_only': False},\n",
       "  {'preprocessing__numerical__imputer__strategy': 'median',\n",
       "   'preprocessing__numerical__poly__degree': 30,\n",
       "   'preprocessing__numerical__poly__include_bias': False,\n",
       "   'preprocessing__numerical__poly__interaction_only': True},\n",
       "  {'preprocessing__numerical__imputer__strategy': 'median',\n",
       "   'preprocessing__numerical__poly__degree': 30,\n",
       "   'preprocessing__numerical__poly__include_bias': True,\n",
       "   'preprocessing__numerical__poly__interaction_only': False},\n",
       "  {'preprocessing__numerical__imputer__strategy': 'median',\n",
       "   'preprocessing__numerical__poly__degree': 30,\n",
       "   'preprocessing__numerical__poly__include_bias': True,\n",
       "   'preprocessing__numerical__poly__interaction_only': True}],\n",
       " 'split0_test_score': array([-4.96125244e+09, -4.96091202e+09, -4.96125244e+09, -4.96091202e+09,\n",
       "        -4.96550851e+09, -4.96091202e+09, -4.96550851e+09, -4.96091202e+09,\n",
       "        -4.96231631e+09, -4.96091202e+09, -4.96231631e+09, -4.96091202e+09,\n",
       "        -4.96279382e+09, -4.96091202e+09, -4.96279315e+09, -4.96091202e+09,\n",
       "        -4.96313891e+09, -4.96091202e+09, -4.96336808e+09, -4.96091202e+09,\n",
       "        -4.96125244e+09, -4.96091202e+09, -4.96125244e+09, -4.96091202e+09,\n",
       "        -4.96550851e+09, -4.96091202e+09, -4.96550851e+09, -4.96091202e+09,\n",
       "        -4.96231631e+09, -4.96091202e+09, -4.96231631e+09, -4.96091202e+09,\n",
       "        -4.96279382e+09, -4.96091202e+09, -4.96279315e+09, -4.96091202e+09,\n",
       "        -4.96313891e+09, -4.96091202e+09, -4.96336808e+09, -4.96091202e+09]),\n",
       " 'split1_test_score': array([-5.00585958e+09, -5.00500511e+09, -5.00585958e+09, -5.00500511e+09,\n",
       "        -4.97023989e+09, -5.00500511e+09, -4.97023989e+09, -5.00500511e+09,\n",
       "        -4.93217821e+09, -5.00500511e+09, -4.93217821e+09, -5.00500511e+09,\n",
       "        -5.14245620e+09, -5.00500511e+09, -5.14291182e+09, -5.00500511e+09,\n",
       "        -1.23072074e+10, -5.00500511e+09, -8.93183900e+09, -5.00500511e+09,\n",
       "        -5.00585958e+09, -5.00500511e+09, -5.00585958e+09, -5.00500511e+09,\n",
       "        -4.97023989e+09, -5.00500511e+09, -4.97023989e+09, -5.00500511e+09,\n",
       "        -4.93217821e+09, -5.00500511e+09, -4.93217821e+09, -5.00500511e+09,\n",
       "        -5.14245620e+09, -5.00500511e+09, -5.14291182e+09, -5.00500511e+09,\n",
       "        -1.23072074e+10, -5.00500511e+09, -8.93183900e+09, -5.00500511e+09]),\n",
       " 'split2_test_score': array([-5.32941281e+09, -5.32020194e+09, -5.32941281e+09, -5.32020194e+09,\n",
       "        -5.26311520e+09, -5.32020194e+09, -5.26311520e+09, -5.32020194e+09,\n",
       "        -5.24247810e+09, -5.32020194e+09, -5.24247810e+09, -5.32020194e+09,\n",
       "        -5.26581218e+09, -5.32020194e+09, -5.26578189e+09, -5.32020194e+09,\n",
       "        -5.30171517e+09, -5.32020194e+09, -5.30211247e+09, -5.32020194e+09,\n",
       "        -5.32941281e+09, -5.32020194e+09, -5.32941281e+09, -5.32020194e+09,\n",
       "        -5.26311520e+09, -5.32020194e+09, -5.26311520e+09, -5.32020194e+09,\n",
       "        -5.24247810e+09, -5.32020194e+09, -5.24247810e+09, -5.32020194e+09,\n",
       "        -5.26581218e+09, -5.32020194e+09, -5.26578189e+09, -5.32020194e+09,\n",
       "        -5.30171517e+09, -5.32020194e+09, -5.30211247e+09, -5.32020194e+09]),\n",
       " 'split3_test_score': array([-5.12176521e+09, -5.12183260e+09, -5.12176521e+09, -5.12183260e+09,\n",
       "        -5.10500860e+09, -5.12183260e+09, -5.10500860e+09, -5.12183260e+09,\n",
       "        -5.09089509e+09, -5.12183260e+09, -5.09089509e+09, -5.12183260e+09,\n",
       "        -5.11176743e+09, -5.12183260e+09, -5.11188054e+09, -5.12183260e+09,\n",
       "        -5.16373054e+09, -5.12183260e+09, -5.15647252e+09, -5.12183260e+09,\n",
       "        -5.12176521e+09, -5.12183260e+09, -5.12176521e+09, -5.12183260e+09,\n",
       "        -5.10500860e+09, -5.12183260e+09, -5.10500860e+09, -5.12183260e+09,\n",
       "        -5.09089509e+09, -5.12183260e+09, -5.09089509e+09, -5.12183260e+09,\n",
       "        -5.11176743e+09, -5.12183260e+09, -5.11188054e+09, -5.12183260e+09,\n",
       "        -5.16373054e+09, -5.12183260e+09, -5.15647252e+09, -5.12183260e+09]),\n",
       " 'split4_test_score': array([-5.27978460e+09, -5.27988755e+09, -5.27978460e+09, -5.27988755e+09,\n",
       "        -5.22632855e+09, -5.27988755e+09, -5.22632855e+09, -5.27988755e+09,\n",
       "        -5.18966240e+09, -5.27988755e+09, -5.18966240e+09, -5.27988755e+09,\n",
       "        -5.90933705e+09, -5.27988755e+09, -5.90778628e+09, -5.27988755e+09,\n",
       "        -5.24853561e+09, -5.27988755e+09, -5.51342550e+09, -5.27988755e+09,\n",
       "        -5.27978460e+09, -5.27988755e+09, -5.27978460e+09, -5.27988755e+09,\n",
       "        -5.22632855e+09, -5.27988755e+09, -5.22632855e+09, -5.27988755e+09,\n",
       "        -5.18966240e+09, -5.27988755e+09, -5.18966240e+09, -5.27988755e+09,\n",
       "        -5.90933705e+09, -5.27988755e+09, -5.90778628e+09, -5.27988755e+09,\n",
       "        -5.24853561e+09, -5.27988755e+09, -5.51342550e+09, -5.27988755e+09]),\n",
       " 'mean_test_score': array([-5.13961493e+09, -5.13756785e+09, -5.13961493e+09, -5.13756785e+09,\n",
       "        -5.10604015e+09, -5.13756785e+09, -5.10604015e+09, -5.13756785e+09,\n",
       "        -5.08350602e+09, -5.13756785e+09, -5.08350602e+09, -5.13756785e+09,\n",
       "        -5.27843334e+09, -5.13756785e+09, -5.27823074e+09, -5.13756785e+09,\n",
       "        -6.59686553e+09, -5.13756785e+09, -5.97344351e+09, -5.13756785e+09,\n",
       "        -5.13961493e+09, -5.13756785e+09, -5.13961493e+09, -5.13756785e+09,\n",
       "        -5.10604015e+09, -5.13756785e+09, -5.10604015e+09, -5.13756785e+09,\n",
       "        -5.08350602e+09, -5.13756785e+09, -5.08350602e+09, -5.13756785e+09,\n",
       "        -5.27843334e+09, -5.13756785e+09, -5.27823074e+09, -5.13756785e+09,\n",
       "        -6.59686553e+09, -5.13756785e+09, -5.97344351e+09, -5.13756785e+09]),\n",
       " 'std_test_score': array([1.45391234e+08, 1.43274471e+08, 1.45391234e+08, 1.43274471e+08,\n",
       "        1.24365420e+08, 1.43274471e+08, 1.24365420e+08, 1.43274471e+08,\n",
       "        1.21805542e+08, 1.43274471e+08, 1.21805542e+08, 1.43274471e+08,\n",
       "        3.29877067e+08, 1.43274471e+08, 3.29235365e+08, 1.43274471e+08,\n",
       "        2.85749370e+09, 1.43274471e+08, 1.49010736e+09, 1.43274471e+08,\n",
       "        1.45391234e+08, 1.43274471e+08, 1.45391234e+08, 1.43274471e+08,\n",
       "        1.24365420e+08, 1.43274471e+08, 1.24365420e+08, 1.43274471e+08,\n",
       "        1.21805542e+08, 1.43274471e+08, 1.21805542e+08, 1.43274471e+08,\n",
       "        3.29877067e+08, 1.43274471e+08, 3.29235365e+08, 1.43274471e+08,\n",
       "        2.85749370e+09, 1.43274471e+08, 1.49010736e+09, 1.43274471e+08]),\n",
       " 'rank_test_score': array([29,  9, 29,  9,  5,  9,  5,  9,  3,  9,  1,  9, 35,  9, 33,  9, 39,\n",
       "         9, 37,  9, 29,  9, 29,  9,  5,  9,  5,  9,  3,  9,  1,  9, 35,  9,\n",
       "        33,  9, 39,  9, 37,  9], dtype=int32),\n",
       " 'split0_train_score': array([-5.18045396e+09, -5.18046632e+09, -5.18045396e+09, -5.18046632e+09,\n",
       "        -5.13566790e+09, -5.18046632e+09, -5.13566790e+09, -5.18046632e+09,\n",
       "        -5.10144975e+09, -5.18046632e+09, -5.10144975e+09, -5.18046632e+09,\n",
       "        -5.09984878e+09, -5.18046632e+09, -5.09984864e+09, -5.18046632e+09,\n",
       "        -5.09885954e+09, -5.18046632e+09, -5.09884656e+09, -5.18046632e+09,\n",
       "        -5.18045396e+09, -5.18046632e+09, -5.18045396e+09, -5.18046632e+09,\n",
       "        -5.13566790e+09, -5.18046632e+09, -5.13566790e+09, -5.18046632e+09,\n",
       "        -5.10144975e+09, -5.18046632e+09, -5.10144975e+09, -5.18046632e+09,\n",
       "        -5.09984878e+09, -5.18046632e+09, -5.09984864e+09, -5.18046632e+09,\n",
       "        -5.09885954e+09, -5.18046632e+09, -5.09884656e+09, -5.18046632e+09]),\n",
       " 'split1_train_score': array([-5.16967994e+09, -5.16972599e+09, -5.16967994e+09, -5.16972599e+09,\n",
       "        -5.13458433e+09, -5.16972599e+09, -5.13458433e+09, -5.16972599e+09,\n",
       "        -5.10919466e+09, -5.16972599e+09, -5.10919466e+09, -5.16972599e+09,\n",
       "        -5.10636117e+09, -5.16972599e+09, -5.10636153e+09, -5.16972599e+09,\n",
       "        -5.10701489e+09, -5.16972599e+09, -5.10701178e+09, -5.16972599e+09,\n",
       "        -5.16967994e+09, -5.16972599e+09, -5.16967994e+09, -5.16972599e+09,\n",
       "        -5.13458433e+09, -5.16972599e+09, -5.13458433e+09, -5.16972599e+09,\n",
       "        -5.10919466e+09, -5.16972599e+09, -5.10919466e+09, -5.16972599e+09,\n",
       "        -5.10636117e+09, -5.16972599e+09, -5.10636153e+09, -5.16972599e+09,\n",
       "        -5.10701489e+09, -5.16972599e+09, -5.10701178e+09, -5.16972599e+09]),\n",
       " 'split2_train_score': array([-5.08959723e+09, -5.09087507e+09, -5.08959723e+09, -5.09087507e+09,\n",
       "        -5.06278543e+09, -5.09087507e+09, -5.06278543e+09, -5.09087507e+09,\n",
       "        -5.03259707e+09, -5.09087507e+09, -5.03259707e+09, -5.09087507e+09,\n",
       "        -5.03131325e+09, -5.09087507e+09, -5.03131323e+09, -5.09087507e+09,\n",
       "        -5.03077718e+09, -5.09087507e+09, -5.03075634e+09, -5.09087507e+09,\n",
       "        -5.08959723e+09, -5.09087507e+09, -5.08959723e+09, -5.09087507e+09,\n",
       "        -5.06278543e+09, -5.09087507e+09, -5.06278543e+09, -5.09087507e+09,\n",
       "        -5.03259707e+09, -5.09087507e+09, -5.03259707e+09, -5.09087507e+09,\n",
       "        -5.03131325e+09, -5.09087507e+09, -5.03131323e+09, -5.09087507e+09,\n",
       "        -5.03077718e+09, -5.09087507e+09, -5.03075634e+09, -5.09087507e+09]),\n",
       " 'split3_train_score': array([-5.14035021e+09, -5.14038752e+09, -5.14035021e+09, -5.14038752e+09,\n",
       "        -5.10073968e+09, -5.14038752e+09, -5.10073968e+09, -5.14038752e+09,\n",
       "        -5.07006291e+09, -5.14038752e+09, -5.07006291e+09, -5.14038752e+09,\n",
       "        -5.06587954e+09, -5.14038752e+09, -5.06587949e+09, -5.14038752e+09,\n",
       "        -5.06779950e+09, -5.14038752e+09, -5.06780206e+09, -5.14038752e+09,\n",
       "        -5.14035021e+09, -5.14038752e+09, -5.14035021e+09, -5.14038752e+09,\n",
       "        -5.10073968e+09, -5.14038752e+09, -5.10073968e+09, -5.14038752e+09,\n",
       "        -5.07006291e+09, -5.14038752e+09, -5.07006291e+09, -5.14038752e+09,\n",
       "        -5.06587954e+09, -5.14038752e+09, -5.06587949e+09, -5.14038752e+09,\n",
       "        -5.06779950e+09, -5.14038752e+09, -5.06780206e+09, -5.14038752e+09]),\n",
       " 'split4_train_score': array([-5.10072307e+09, -5.10072766e+09, -5.10072307e+09, -5.10072766e+09,\n",
       "        -5.07051181e+09, -5.10072766e+09, -5.07051181e+09, -5.10072766e+09,\n",
       "        -5.04459491e+09, -5.10072766e+09, -5.04459491e+09, -5.10072766e+09,\n",
       "        -5.03869072e+09, -5.10072766e+09, -5.03869069e+09, -5.10072766e+09,\n",
       "        -5.03826884e+09, -5.10072766e+09, -5.03824452e+09, -5.10072766e+09,\n",
       "        -5.10072307e+09, -5.10072766e+09, -5.10072307e+09, -5.10072766e+09,\n",
       "        -5.07051181e+09, -5.10072766e+09, -5.07051181e+09, -5.10072766e+09,\n",
       "        -5.04459491e+09, -5.10072766e+09, -5.04459491e+09, -5.10072766e+09,\n",
       "        -5.03869072e+09, -5.10072766e+09, -5.03869069e+09, -5.10072766e+09,\n",
       "        -5.03826884e+09, -5.10072766e+09, -5.03824452e+09, -5.10072766e+09]),\n",
       " 'mean_train_score': array([-5.13616088e+09, -5.13643651e+09, -5.13616088e+09, -5.13643651e+09,\n",
       "        -5.10085783e+09, -5.13643651e+09, -5.10085783e+09, -5.13643651e+09,\n",
       "        -5.07157986e+09, -5.13643651e+09, -5.07157986e+09, -5.13643651e+09,\n",
       "        -5.06841869e+09, -5.13643651e+09, -5.06841872e+09, -5.13643651e+09,\n",
       "        -5.06854399e+09, -5.13643651e+09, -5.06853225e+09, -5.13643651e+09,\n",
       "        -5.13616088e+09, -5.13643651e+09, -5.13616088e+09, -5.13643651e+09,\n",
       "        -5.10085783e+09, -5.13643651e+09, -5.10085783e+09, -5.13643651e+09,\n",
       "        -5.07157986e+09, -5.13643651e+09, -5.07157986e+09, -5.13643651e+09,\n",
       "        -5.06841869e+09, -5.13643651e+09, -5.06841872e+09, -5.13643651e+09,\n",
       "        -5.06854399e+09, -5.13643651e+09, -5.06853225e+09, -5.13643651e+09]),\n",
       " 'std_train_score': array([36130228.23195246, 35814497.64286604, 36130228.23195286,\n",
       "        35814497.64286606, 30723347.81786074, 35814497.64286604,\n",
       "        30723347.81786055, 35814497.64286606, 30190163.17332174,\n",
       "        35814497.64286604, 30190163.17318184, 35814497.64286606,\n",
       "        30641461.23293394, 35814497.64286604, 30641529.72941246,\n",
       "        35814497.64286606, 30797770.6689202 , 35814497.64286604,\n",
       "        30804318.82058802, 35814497.64286606, 36130228.23195246,\n",
       "        35814497.64286604, 36130228.23195286, 35814497.64286606,\n",
       "        30723347.81786074, 35814497.64286604, 30723347.81786055,\n",
       "        35814497.64286606, 30190163.17332174, 35814497.64286604,\n",
       "        30190163.17318184, 35814497.64286606, 30641461.23293394,\n",
       "        35814497.64286604, 30641529.72941246, 35814497.64286606,\n",
       "        30797770.6689202 , 35814497.64286604, 30804318.82058802,\n",
       "        35814497.64286606])}"
      ]
     },
     "execution_count": 30,
     "metadata": {},
     "output_type": "execute_result"
    }
   ],
   "source": [
    "grid_search_scenario_1.cv_results_"
   ]
  },
  {
   "cell_type": "code",
   "execution_count": 31,
   "id": "hearing-production",
   "metadata": {},
   "outputs": [
    {
     "name": "stdout",
     "output_type": "stream",
     "text": [
      "Best RMSE score: 71293.59154095186 +- 854.298811667153\n"
     ]
    }
   ],
   "source": [
    "n_folds = 5\n",
    "split_keys = [f'split{i}_test_score' for i in range(n_folds)]\n",
    "best_index = grid_search_scenario_1.best_index_\n",
    "\n",
    "rmse_scores = []\n",
    "\n",
    "for key in split_keys:\n",
    "    neg_mse_score = grid_search_scenario_1.cv_results_[key][best_index]\n",
    "    rmse_scores.append(np.sqrt(-neg_mse_score))\n",
    "\n",
    "best_rmse = np.mean(rmse_scores)\n",
    "best_rmse_std = np.std(rmse_scores)\n",
    "\n",
    "\n",
    "print(f'Best RMSE score: {best_rmse} +- {best_rmse_std}')"
   ]
  },
  {
   "cell_type": "markdown",
   "id": "governing-bryan",
   "metadata": {},
   "source": [
    "By doing it in the _mathematically correct way_, we see that the **true mean RMSE** (\\\\$71,293.59) is very close from the approximated one (\\\\$71,298.70). <br/>\n",
    "However, the **true standard deviation for RMSE** (\\$854.29) is _considerably smaller_ than the approximated one (\\\\$11,036.55)."
   ]
  },
  {
   "cell_type": "markdown",
   "id": "technical-airplane",
   "metadata": {},
   "source": [
    "### **Scenario 2**"
   ]
  },
  {
   "cell_type": "code",
   "execution_count": 32,
   "id": "invalid-sierra",
   "metadata": {},
   "outputs": [
    {
     "data": {
      "text/plain": [
       "{'memory': None,\n",
       " 'steps': [('preprocessing',\n",
       "   ColumnTransformer(transformers=[('numerical',\n",
       "                                    Pipeline(steps=[('imputer', SimpleImputer()),\n",
       "                                                    ('feat_engineering',\n",
       "                                                     HousingFeatEngineering()),\n",
       "                                                    ('drop_features',\n",
       "                                                     DropFeatures()),\n",
       "                                                    ('poly', PolynomialFeatures()),\n",
       "                                                    ('scaler', RobustScaler())]),\n",
       "                                    Index(['longitude', 'latitude', 'housing_median_age', 'total_rooms',\n",
       "          'total_bedrooms', 'population', 'households', 'median_income'],\n",
       "         dtype='object'))])),\n",
       "  ('lin_regression', LinearRegression())],\n",
       " 'verbose': False,\n",
       " 'preprocessing': ColumnTransformer(transformers=[('numerical',\n",
       "                                  Pipeline(steps=[('imputer', SimpleImputer()),\n",
       "                                                  ('feat_engineering',\n",
       "                                                   HousingFeatEngineering()),\n",
       "                                                  ('drop_features',\n",
       "                                                   DropFeatures()),\n",
       "                                                  ('poly', PolynomialFeatures()),\n",
       "                                                  ('scaler', RobustScaler())]),\n",
       "                                  Index(['longitude', 'latitude', 'housing_median_age', 'total_rooms',\n",
       "        'total_bedrooms', 'population', 'households', 'median_income'],\n",
       "       dtype='object'))]),\n",
       " 'lin_regression': LinearRegression(),\n",
       " 'preprocessing__n_jobs': None,\n",
       " 'preprocessing__remainder': 'drop',\n",
       " 'preprocessing__sparse_threshold': 0.3,\n",
       " 'preprocessing__transformer_weights': None,\n",
       " 'preprocessing__transformers': [('numerical',\n",
       "   Pipeline(steps=[('imputer', SimpleImputer()),\n",
       "                   ('feat_engineering', HousingFeatEngineering()),\n",
       "                   ('drop_features', DropFeatures()),\n",
       "                   ('poly', PolynomialFeatures()), ('scaler', RobustScaler())]),\n",
       "   Index(['longitude', 'latitude', 'housing_median_age', 'total_rooms',\n",
       "          'total_bedrooms', 'population', 'households', 'median_income'],\n",
       "         dtype='object'))],\n",
       " 'preprocessing__verbose': False,\n",
       " 'preprocessing__numerical': Pipeline(steps=[('imputer', SimpleImputer()),\n",
       "                 ('feat_engineering', HousingFeatEngineering()),\n",
       "                 ('drop_features', DropFeatures()),\n",
       "                 ('poly', PolynomialFeatures()), ('scaler', RobustScaler())]),\n",
       " 'preprocessing__numerical__memory': None,\n",
       " 'preprocessing__numerical__steps': [('imputer', SimpleImputer()),\n",
       "  ('feat_engineering', HousingFeatEngineering()),\n",
       "  ('drop_features', DropFeatures()),\n",
       "  ('poly', PolynomialFeatures()),\n",
       "  ('scaler', RobustScaler())],\n",
       " 'preprocessing__numerical__verbose': False,\n",
       " 'preprocessing__numerical__imputer': SimpleImputer(),\n",
       " 'preprocessing__numerical__feat_engineering': HousingFeatEngineering(),\n",
       " 'preprocessing__numerical__drop_features': DropFeatures(),\n",
       " 'preprocessing__numerical__poly': PolynomialFeatures(),\n",
       " 'preprocessing__numerical__scaler': RobustScaler(),\n",
       " 'preprocessing__numerical__imputer__add_indicator': False,\n",
       " 'preprocessing__numerical__imputer__copy': True,\n",
       " 'preprocessing__numerical__imputer__fill_value': None,\n",
       " 'preprocessing__numerical__imputer__missing_values': nan,\n",
       " 'preprocessing__numerical__imputer__strategy': 'mean',\n",
       " 'preprocessing__numerical__imputer__verbose': 0,\n",
       " 'preprocessing__numerical__drop_features__verbose': False,\n",
       " 'preprocessing__numerical__poly__degree': 2,\n",
       " 'preprocessing__numerical__poly__include_bias': True,\n",
       " 'preprocessing__numerical__poly__interaction_only': False,\n",
       " 'preprocessing__numerical__poly__order': 'C',\n",
       " 'preprocessing__numerical__scaler__copy': True,\n",
       " 'preprocessing__numerical__scaler__quantile_range': (25.0, 75.0),\n",
       " 'preprocessing__numerical__scaler__unit_variance': False,\n",
       " 'preprocessing__numerical__scaler__with_centering': True,\n",
       " 'preprocessing__numerical__scaler__with_scaling': True,\n",
       " 'lin_regression__copy_X': True,\n",
       " 'lin_regression__fit_intercept': True,\n",
       " 'lin_regression__n_jobs': None,\n",
       " 'lin_regression__normalize': False,\n",
       " 'lin_regression__positive': False}"
      ]
     },
     "execution_count": 32,
     "metadata": {},
     "output_type": "execute_result"
    }
   ],
   "source": [
    "full_pipeline_scenario_2.get_params()"
   ]
  },
  {
   "cell_type": "markdown",
   "id": "graduate-intent",
   "metadata": {},
   "source": [
    "Since our feature matrix has a considerable number of features, for computation time reasons, we decided to:\n",
    "- Consider a small number of hyperparameter combinations (small search space)\n",
    "- Low polynomial degrees"
   ]
  },
  {
   "cell_type": "code",
   "execution_count": null,
   "id": "green-update",
   "metadata": {},
   "outputs": [
    {
     "name": "stdout",
     "output_type": "stream",
     "text": [
      "Fitting 5 folds for each of 16 candidates, totalling 80 fits\n"
     ]
    }
   ],
   "source": [
    "from sklearn.model_selection import GridSearchCV\n",
    "\n",
    "param_grid_scenario_2 = [\n",
    "    {\n",
    "     'preprocessing__numerical__imputer__strategy': ['mean', 'median'],\n",
    "     'preprocessing__numerical__poly__degree': [2, 3, 4, 5],\n",
    "     'preprocessing__numerical__poly__include_bias': [False, True],\n",
    "     'preprocessing__numerical__poly__interaction_only': [False]\n",
    "    }\n",
    "]\n",
    "\n",
    "grid_search_scenario_2 = GridSearchCV(full_pipeline_scenario_2, param_grid_scenario_2, cv=5, scoring='neg_mean_squared_error', return_train_score=True, verbose=1)\n",
    "grid_search_scenario_2.fit(housing_train, y_train)"
   ]
  },
  {
   "cell_type": "code",
   "execution_count": null,
   "id": "entertaining-mozambique",
   "metadata": {},
   "outputs": [],
   "source": [
    "cvres = grid_search_scenario_2.cv_results_\n",
    "\n",
    "for mean_score, params in zip(cvres[\"mean_test_score\"], cvres[\"params\"]):\n",
    "    print(np.sqrt(-mean_score), params)"
   ]
  },
  {
   "cell_type": "code",
   "execution_count": null,
   "id": "upset-negative",
   "metadata": {},
   "outputs": [],
   "source": [
    "grid_search_scenario_2.best_params_"
   ]
  },
  {
   "cell_type": "code",
   "execution_count": null,
   "id": "fifteen-cannon",
   "metadata": {},
   "outputs": [],
   "source": [
    "# if refit=True, it returns a model trained with the full training set with the best hyperparameters\n",
    "best_model = grid_search_scenario_2.best_estimator_\n",
    "best_model"
   ]
  },
  {
   "cell_type": "code",
   "execution_count": null,
   "id": "liberal-launch",
   "metadata": {},
   "outputs": [],
   "source": [
    "# best approximated RMSE\n",
    "np.sqrt(-grid_search_scenario_2.best_score_)"
   ]
  },
  {
   "cell_type": "code",
   "execution_count": null,
   "id": "imposed-administration",
   "metadata": {},
   "outputs": [],
   "source": [
    "# get the approximated RMSE and its standard deviation\n",
    "best_index = grid_search_scenario_2.best_index_\n",
    "best_score = np.sqrt(-grid_search_scenario_2.cv_results_['mean_test_score'][best_index])\n",
    "best_score_std = np.sqrt(grid_search_scenario_2.cv_results_['std_test_score'][best_index])\n",
    "\n",
    "print(f'Best score: {best_score} +- {best_score_std}')"
   ]
  },
  {
   "cell_type": "code",
   "execution_count": null,
   "id": "conceptual-startup",
   "metadata": {},
   "outputs": [],
   "source": [
    "n_folds = 5\n",
    "split_keys = [f'split{i}_test_score' for i in range(n_folds)]\n",
    "best_index = grid_search_scenario_2.best_index_\n",
    "\n",
    "rmse_scores = []\n",
    "\n",
    "for key in split_keys:\n",
    "    neg_mse_score = grid_search_scenario_2.cv_results_[key][best_index]\n",
    "    rmse_scores.append(np.sqrt(-neg_mse_score))\n",
    "\n",
    "best_rmse = np.mean(rmse_scores)\n",
    "best_rmse_std = np.std(rmse_scores)\n",
    "\n",
    "\n",
    "print(f'Best RMSE score: {best_rmse} +- {best_rmse_std}')"
   ]
  },
  {
   "cell_type": "markdown",
   "id": "silver-aviation",
   "metadata": {},
   "source": [
    "<br/>\n",
    "\n",
    "The large **best true RMSE** (\\\\$345,172.71) -- even larger for the approximated one (\\\\$626,165.23) -- shows that (i) this model is not suitable for the problem, and/or (ii) the considered _search space_ is insufficient to get better models. <br/>\n",
    "\n",
    "We'd better throw this model away."
   ]
  }
 ],
 "metadata": {
  "kernelspec": {
   "display_name": "Python 3 (ipykernel)",
   "language": "python",
   "name": "python3"
  },
  "language_info": {
   "codemirror_mode": {
    "name": "ipython",
    "version": 3
   },
   "file_extension": ".py",
   "mimetype": "text/x-python",
   "name": "python",
   "nbconvert_exporter": "python",
   "pygments_lexer": "ipython3",
   "version": "3.9.6"
  }
 },
 "nbformat": 4,
 "nbformat_minor": 5
}
