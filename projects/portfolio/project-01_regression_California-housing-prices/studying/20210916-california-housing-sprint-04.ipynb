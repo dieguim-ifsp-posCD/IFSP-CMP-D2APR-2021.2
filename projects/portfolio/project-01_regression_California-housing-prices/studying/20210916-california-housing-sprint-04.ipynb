{
 "cells": [
  {
   "cell_type": "markdown",
   "id": "southeast-gravity",
   "metadata": {},
   "source": [
    "### **D2APR: Aprendizado de Máquina e Reconhecimento de Padrões** (IFSP, Campinas) <br/>\n",
    "**Prof**: Samuel Martins (Samuka) <br/>\n",
    "\n",
    "<a rel=\"license\" href=\"http://creativecommons.org/licenses/by-nc-sa/4.0/\"><img alt=\"Creative Commons License\" style=\"border-width:0\" src=\"https://i.creativecommons.org/l/by-nc-sa/4.0/88x31.png\" /></a><br />This work is licensed under a <a rel=\"license\" href=\"http://creativecommons.org/licenses/by-nc-sa/4.0/\">Creative Commons Attribution-NonCommercial-ShareAlike 4.0 International License</a>. <br/><br/>"
   ]
  },
  {
   "cell_type": "markdown",
   "id": "applicable-tuition",
   "metadata": {},
   "source": [
    "### Custom CSS style"
   ]
  },
  {
   "cell_type": "code",
   "execution_count": 1,
   "id": "cardiac-seven",
   "metadata": {
    "tags": []
   },
   "outputs": [
    {
     "data": {
      "text/html": [
       "<style>\n",
       ".dashed-box {\n",
       "    border: 1px dashed black !important;\n",
       "}\n",
       ".dashed-box tr {\n",
       "  background-color: white !important;  \n",
       "}\n",
       ".alt-tab {\n",
       "    background-color: black;\n",
       "    color: #ffc351;\n",
       "    padding: 4px;\n",
       "    font-size: 1em;\n",
       "    font-weight: bold;\n",
       "    font-family: monospace;\n",
       "}\n",
       "// add your CSS styling here\n",
       "</style>\n"
      ],
      "text/plain": [
       "<IPython.core.display.HTML object>"
      ]
     },
     "metadata": {},
     "output_type": "display_data"
    }
   ],
   "source": [
    "%%html\n",
    "<style>\n",
    ".dashed-box {\n",
    "    border: 1px dashed black !important;\n",
    "}\n",
    ".dashed-box tr {\n",
    "  background-color: white !important;  \n",
    "}\n",
    ".alt-tab {\n",
    "    background-color: black;\n",
    "    color: #ffc351;\n",
    "    padding: 4px;\n",
    "    font-size: 1em;\n",
    "    font-weight: bold;\n",
    "    font-family: monospace;\n",
    "}\n",
    "// add your CSS styling here\n",
    "</style>"
   ]
  },
  {
   "cell_type": "markdown",
   "id": "optical-bangkok",
   "metadata": {},
   "source": [
    "<span style='font-size: 2.5em'><b>California Housing 🏡</b></span><br/>\n",
    "<span style='font-size: 1.5em'>Predict the median housing price in California districts</span>\n",
    "\n",
    "<span style=\"background-color: #ffc351; padding: 4px; font-size: 1em;\"><b>Sprint 4</b></span>\n",
    "\n",
    "<img src=\"../imgs/california-flag.png\" width=300/>\n",
    "\n",
    "---\n",
    "\n"
   ]
  },
  {
   "cell_type": "markdown",
   "id": "dated-catalog",
   "metadata": {},
   "source": [
    "## Before starting this notebook\n",
    "This jupyter notebook is designed for **experimental and teaching purposes**. <br/>\n",
    "Although it is (relatively) well organized, it aims at solving the _target problem_ by evaluating (and documenting) _different solutions_ for somes steps of the **machine learning pipeline** — see the ***Machine Learning Project Checklist by xavecoding***. <br/>\n",
    "We tried to make this notebook as literally a _notebook_. Thus, it contains notes, drafts, comments, etc.<br/>\n",
    "\n",
    "For teaching purposes, some parts of the notebook may be _overcommented_. Moreover, to simulate a real development scenario, we will divide our solution and experiments into **\"sprints\"** in which each sprint has some goals (e.g., perform _feature selection_, train more ML models, ...). <br/>\n",
    "The **sprint goal** will be stated at the beginning of the notebook.\n",
    "\n",
    "A ***final notebook*** (or any other kind of presentation) that compiles and summarizes all sprints — the target problem, solutions, and findings — should be created later.\n",
    "\n",
    "#### Conventions\n",
    "\n",
    "<ul>\n",
    "    <li>💡 indicates a tip. </li>\n",
    "    <li> ⚠️ indicates a warning message. </li>\n",
    "    <li><span class='alt-tab'>alt tab</span> indicates and an extra content (<i>e.g.</i>, slides) to explain a given concept.</li>\n",
    "</ul>\n",
    "\n",
    "---"
   ]
  },
  {
   "cell_type": "markdown",
   "id": "comparable-plasma",
   "metadata": {},
   "source": [
    "## 🎯 Sprint Goals\n",
    "- Refactor our codes by using the sklearn Pipelines\n",
    "---"
   ]
  },
  {
   "cell_type": "markdown",
   "id": "grateful-probability",
   "metadata": {},
   "source": [
    "### 0. Imports and default settings for plotting"
   ]
  },
  {
   "cell_type": "code",
   "execution_count": 2,
   "id": "liked-sector",
   "metadata": {},
   "outputs": [],
   "source": [
    "import numpy as np\n",
    "import pandas as pd\n",
    "import matplotlib.pyplot as plt\n",
    "import seaborn as sns\n",
    "\n",
    "sns.set_theme(style=\"whitegrid\")\n",
    "\n",
    "params = {'legend.fontsize': 'x-large',\n",
    "          'figure.figsize': (15, 5),\n",
    "         'axes.labelsize': 'x-large',\n",
    "         'axes.titlesize':'x-large',\n",
    "         'xtick.labelsize':'x-large',\n",
    "         'ytick.labelsize':'x-large'}\n",
    "plt.rcParams.update(params)"
   ]
  },
  {
   "cell_type": "markdown",
   "id": "silent-table",
   "metadata": {},
   "source": [
    "## 🛠️ 5. Prepare the Data"
   ]
  },
  {
   "cell_type": "markdown",
   "id": "peaceful-assistant",
   "metadata": {},
   "source": [
    "#### **Preprocessing tasks**\n",
    "- Fill in missing values (imputation)\n",
    "- Add new features\n",
    "- Feature Scaling\n",
    "- One-Hot Encoding"
   ]
  },
  {
   "cell_type": "markdown",
   "id": "monetary-pierre",
   "metadata": {},
   "source": [
    "<table align=\"left\" class=\"dashed-box\">\n",
    "<tr>\n",
    "    <td><span class='alt-tab'>alt tab</span></td>\n",
    "    <td><b>Slides:</b> Scikit-Learn Design Principles - Hyperparameters vs Parameters<br/>\n",
    "        <b>Slides:</b> Scikit-Learn Design Principles - Main APIs</td>\n",
    "</tr>\n",
    "</table><br/><br/>"
   ]
  },
  {
   "cell_type": "markdown",
   "id": "caroline-consideration",
   "metadata": {},
   "source": [
    "### 5.1. Load the cleaned training set"
   ]
  },
  {
   "cell_type": "markdown",
   "id": "powered-chicken",
   "metadata": {},
   "source": [
    "Let's consider the training and testing sets already cleaned (sprint #2):\n",
    "- Drop duplicated instances (no found)\n",
    "- Drop instances with `housing_median_age` capped at 52\n",
    "- Drop instances with `median_house_value` capped at 500001.0"
   ]
  },
  {
   "cell_type": "code",
   "execution_count": 4,
   "id": "infectious-documentation",
   "metadata": {},
   "outputs": [],
   "source": [
    "# load the cleaned training set\n",
    "housing_train = pd.read_csv('../datasets/housing_train_sprint-2.csv')"
   ]
  },
  {
   "cell_type": "code",
   "execution_count": 5,
   "id": "smoking-snowboard",
   "metadata": {},
   "outputs": [
    {
     "data": {
      "text/html": [
       "<div>\n",
       "<style scoped>\n",
       "    .dataframe tbody tr th:only-of-type {\n",
       "        vertical-align: middle;\n",
       "    }\n",
       "\n",
       "    .dataframe tbody tr th {\n",
       "        vertical-align: top;\n",
       "    }\n",
       "\n",
       "    .dataframe thead th {\n",
       "        text-align: right;\n",
       "    }\n",
       "</style>\n",
       "<table border=\"1\" class=\"dataframe\">\n",
       "  <thead>\n",
       "    <tr style=\"text-align: right;\">\n",
       "      <th></th>\n",
       "      <th>longitude</th>\n",
       "      <th>latitude</th>\n",
       "      <th>housing_median_age</th>\n",
       "      <th>total_rooms</th>\n",
       "      <th>total_bedrooms</th>\n",
       "      <th>population</th>\n",
       "      <th>households</th>\n",
       "      <th>median_income</th>\n",
       "      <th>median_house_value</th>\n",
       "      <th>ocean_proximity</th>\n",
       "    </tr>\n",
       "  </thead>\n",
       "  <tbody>\n",
       "    <tr>\n",
       "      <th>0</th>\n",
       "      <td>-121.37</td>\n",
       "      <td>37.06</td>\n",
       "      <td>25.0</td>\n",
       "      <td>474.0</td>\n",
       "      <td>92.0</td>\n",
       "      <td>300.0</td>\n",
       "      <td>104.0</td>\n",
       "      <td>3.8062</td>\n",
       "      <td>340900.0</td>\n",
       "      <td>INLAND</td>\n",
       "    </tr>\n",
       "    <tr>\n",
       "      <th>1</th>\n",
       "      <td>-118.39</td>\n",
       "      <td>34.14</td>\n",
       "      <td>19.0</td>\n",
       "      <td>5076.0</td>\n",
       "      <td>1034.0</td>\n",
       "      <td>2021.0</td>\n",
       "      <td>960.0</td>\n",
       "      <td>5.5683</td>\n",
       "      <td>309200.0</td>\n",
       "      <td>&lt;1H OCEAN</td>\n",
       "    </tr>\n",
       "    <tr>\n",
       "      <th>2</th>\n",
       "      <td>-122.07</td>\n",
       "      <td>37.41</td>\n",
       "      <td>26.0</td>\n",
       "      <td>1184.0</td>\n",
       "      <td>225.0</td>\n",
       "      <td>815.0</td>\n",
       "      <td>218.0</td>\n",
       "      <td>5.7657</td>\n",
       "      <td>322300.0</td>\n",
       "      <td>NEAR BAY</td>\n",
       "    </tr>\n",
       "    <tr>\n",
       "      <th>3</th>\n",
       "      <td>-121.92</td>\n",
       "      <td>36.57</td>\n",
       "      <td>42.0</td>\n",
       "      <td>3944.0</td>\n",
       "      <td>738.0</td>\n",
       "      <td>1374.0</td>\n",
       "      <td>598.0</td>\n",
       "      <td>4.1740</td>\n",
       "      <td>394400.0</td>\n",
       "      <td>NEAR OCEAN</td>\n",
       "    </tr>\n",
       "    <tr>\n",
       "      <th>4</th>\n",
       "      <td>-118.36</td>\n",
       "      <td>33.82</td>\n",
       "      <td>36.0</td>\n",
       "      <td>1083.0</td>\n",
       "      <td>187.0</td>\n",
       "      <td>522.0</td>\n",
       "      <td>187.0</td>\n",
       "      <td>5.7765</td>\n",
       "      <td>339500.0</td>\n",
       "      <td>&lt;1H OCEAN</td>\n",
       "    </tr>\n",
       "  </tbody>\n",
       "</table>\n",
       "</div>"
      ],
      "text/plain": [
       "   longitude  latitude  housing_median_age  total_rooms  total_bedrooms  \\\n",
       "0    -121.37     37.06                25.0        474.0            92.0   \n",
       "1    -118.39     34.14                19.0       5076.0          1034.0   \n",
       "2    -122.07     37.41                26.0       1184.0           225.0   \n",
       "3    -121.92     36.57                42.0       3944.0           738.0   \n",
       "4    -118.36     33.82                36.0       1083.0           187.0   \n",
       "\n",
       "   population  households  median_income  median_house_value ocean_proximity  \n",
       "0       300.0       104.0         3.8062            340900.0          INLAND  \n",
       "1      2021.0       960.0         5.5683            309200.0       <1H OCEAN  \n",
       "2       815.0       218.0         5.7657            322300.0        NEAR BAY  \n",
       "3      1374.0       598.0         4.1740            394400.0      NEAR OCEAN  \n",
       "4       522.0       187.0         5.7765            339500.0       <1H OCEAN  "
      ]
     },
     "execution_count": 5,
     "metadata": {},
     "output_type": "execute_result"
    }
   ],
   "source": [
    "housing_train.head()"
   ]
  },
  {
   "cell_type": "code",
   "execution_count": 6,
   "id": "turned-deadline",
   "metadata": {},
   "outputs": [
    {
     "data": {
      "text/plain": [
       "(14857, 10)"
      ]
     },
     "execution_count": 6,
     "metadata": {},
     "output_type": "execute_result"
    }
   ],
   "source": [
    "housing_train.shape"
   ]
  },
  {
   "cell_type": "markdown",
   "id": "included-damages",
   "metadata": {},
   "source": [
    "### 5.2. Separate the _features_ and the _target outcome_"
   ]
  },
  {
   "cell_type": "code",
   "execution_count": 7,
   "id": "entertaining-difficulty",
   "metadata": {},
   "outputs": [
    {
     "data": {
      "text/plain": [
       "Index(['longitude', 'latitude', 'housing_median_age', 'total_rooms',\n",
       "       'total_bedrooms', 'population', 'households', 'median_income',\n",
       "       'median_house_value', 'ocean_proximity'],\n",
       "      dtype='object')"
      ]
     },
     "execution_count": 7,
     "metadata": {},
     "output_type": "execute_result"
    }
   ],
   "source": [
    "housing_train.columns"
   ]
  },
  {
   "cell_type": "code",
   "execution_count": 11,
   "id": "female-jewelry",
   "metadata": {},
   "outputs": [],
   "source": [
    "# store the target outcome into a numpy array\n",
    "y_train = housing_train['median_house_value'].values"
   ]
  },
  {
   "cell_type": "code",
   "execution_count": 12,
   "id": "presidential-humanitarian",
   "metadata": {},
   "outputs": [
    {
     "data": {
      "text/plain": [
       "array([340900., 309200., 322300., ..., 112500.,  88100.,  89000.])"
      ]
     },
     "execution_count": 12,
     "metadata": {},
     "output_type": "execute_result"
    }
   ],
   "source": [
    "y_train"
   ]
  },
  {
   "cell_type": "code",
   "execution_count": 13,
   "id": "quantitative-posting",
   "metadata": {},
   "outputs": [
    {
     "data": {
      "text/plain": [
       "(14857,)"
      ]
     },
     "execution_count": 13,
     "metadata": {},
     "output_type": "execute_result"
    }
   ],
   "source": [
    "y_train.shape"
   ]
  },
  {
   "cell_type": "code",
   "execution_count": 15,
   "id": "marked-electric",
   "metadata": {},
   "outputs": [],
   "source": [
    "# overwrite the dataframe with only the features  \n",
    "housing_train = housing_train.drop(columns=['median_house_value'])"
   ]
  },
  {
   "cell_type": "code",
   "execution_count": 16,
   "id": "young-museum",
   "metadata": {},
   "outputs": [
    {
     "data": {
      "text/html": [
       "<div>\n",
       "<style scoped>\n",
       "    .dataframe tbody tr th:only-of-type {\n",
       "        vertical-align: middle;\n",
       "    }\n",
       "\n",
       "    .dataframe tbody tr th {\n",
       "        vertical-align: top;\n",
       "    }\n",
       "\n",
       "    .dataframe thead th {\n",
       "        text-align: right;\n",
       "    }\n",
       "</style>\n",
       "<table border=\"1\" class=\"dataframe\">\n",
       "  <thead>\n",
       "    <tr style=\"text-align: right;\">\n",
       "      <th></th>\n",
       "      <th>longitude</th>\n",
       "      <th>latitude</th>\n",
       "      <th>housing_median_age</th>\n",
       "      <th>total_rooms</th>\n",
       "      <th>total_bedrooms</th>\n",
       "      <th>population</th>\n",
       "      <th>households</th>\n",
       "      <th>median_income</th>\n",
       "      <th>ocean_proximity</th>\n",
       "    </tr>\n",
       "  </thead>\n",
       "  <tbody>\n",
       "    <tr>\n",
       "      <th>0</th>\n",
       "      <td>-121.37</td>\n",
       "      <td>37.06</td>\n",
       "      <td>25.0</td>\n",
       "      <td>474.0</td>\n",
       "      <td>92.0</td>\n",
       "      <td>300.0</td>\n",
       "      <td>104.0</td>\n",
       "      <td>3.8062</td>\n",
       "      <td>INLAND</td>\n",
       "    </tr>\n",
       "    <tr>\n",
       "      <th>1</th>\n",
       "      <td>-118.39</td>\n",
       "      <td>34.14</td>\n",
       "      <td>19.0</td>\n",
       "      <td>5076.0</td>\n",
       "      <td>1034.0</td>\n",
       "      <td>2021.0</td>\n",
       "      <td>960.0</td>\n",
       "      <td>5.5683</td>\n",
       "      <td>&lt;1H OCEAN</td>\n",
       "    </tr>\n",
       "    <tr>\n",
       "      <th>2</th>\n",
       "      <td>-122.07</td>\n",
       "      <td>37.41</td>\n",
       "      <td>26.0</td>\n",
       "      <td>1184.0</td>\n",
       "      <td>225.0</td>\n",
       "      <td>815.0</td>\n",
       "      <td>218.0</td>\n",
       "      <td>5.7657</td>\n",
       "      <td>NEAR BAY</td>\n",
       "    </tr>\n",
       "    <tr>\n",
       "      <th>3</th>\n",
       "      <td>-121.92</td>\n",
       "      <td>36.57</td>\n",
       "      <td>42.0</td>\n",
       "      <td>3944.0</td>\n",
       "      <td>738.0</td>\n",
       "      <td>1374.0</td>\n",
       "      <td>598.0</td>\n",
       "      <td>4.1740</td>\n",
       "      <td>NEAR OCEAN</td>\n",
       "    </tr>\n",
       "    <tr>\n",
       "      <th>4</th>\n",
       "      <td>-118.36</td>\n",
       "      <td>33.82</td>\n",
       "      <td>36.0</td>\n",
       "      <td>1083.0</td>\n",
       "      <td>187.0</td>\n",
       "      <td>522.0</td>\n",
       "      <td>187.0</td>\n",
       "      <td>5.7765</td>\n",
       "      <td>&lt;1H OCEAN</td>\n",
       "    </tr>\n",
       "  </tbody>\n",
       "</table>\n",
       "</div>"
      ],
      "text/plain": [
       "   longitude  latitude  housing_median_age  total_rooms  total_bedrooms  \\\n",
       "0    -121.37     37.06                25.0        474.0            92.0   \n",
       "1    -118.39     34.14                19.0       5076.0          1034.0   \n",
       "2    -122.07     37.41                26.0       1184.0           225.0   \n",
       "3    -121.92     36.57                42.0       3944.0           738.0   \n",
       "4    -118.36     33.82                36.0       1083.0           187.0   \n",
       "\n",
       "   population  households  median_income ocean_proximity  \n",
       "0       300.0       104.0         3.8062          INLAND  \n",
       "1      2021.0       960.0         5.5683       <1H OCEAN  \n",
       "2       815.0       218.0         5.7657        NEAR BAY  \n",
       "3      1374.0       598.0         4.1740      NEAR OCEAN  \n",
       "4       522.0       187.0         5.7765       <1H OCEAN  "
      ]
     },
     "execution_count": 16,
     "metadata": {},
     "output_type": "execute_result"
    }
   ],
   "source": [
    "housing_train.head()"
   ]
  },
  {
   "cell_type": "code",
   "execution_count": 17,
   "id": "western-secret",
   "metadata": {},
   "outputs": [
    {
     "data": {
      "text/plain": [
       "(14857, 9)"
      ]
     },
     "execution_count": 17,
     "metadata": {},
     "output_type": "execute_result"
    }
   ],
   "source": [
    "housing_train.shape"
   ]
  },
  {
   "cell_type": "markdown",
   "id": "brown-husband",
   "metadata": {},
   "source": [
    "### 5.3. Separate the _numerical_ and _categorical_ features\n",
    "Since we perform different preprocessing tasks (transformations) to _numerical_ features and _categorical_ ones, let's split them into two different dataframes."
   ]
  },
  {
   "cell_type": "code",
   "execution_count": 18,
   "id": "greenhouse-duplicate",
   "metadata": {},
   "outputs": [
    {
     "data": {
      "text/plain": [
       "Index(['longitude', 'latitude', 'housing_median_age', 'total_rooms',\n",
       "       'total_bedrooms', 'population', 'households', 'median_income',\n",
       "       'ocean_proximity'],\n",
       "      dtype='object')"
      ]
     },
     "execution_count": 18,
     "metadata": {},
     "output_type": "execute_result"
    }
   ],
   "source": [
    "housing_train.columns"
   ]
  },
  {
   "cell_type": "code",
   "execution_count": 22,
   "id": "surprising-bankruptcy",
   "metadata": {},
   "outputs": [
    {
     "data": {
      "text/plain": [
       "Index(['longitude', 'latitude', 'housing_median_age', 'total_rooms',\n",
       "       'total_bedrooms', 'population', 'households', 'median_income'],\n",
       "      dtype='object')"
      ]
     },
     "execution_count": 22,
     "metadata": {},
     "output_type": "execute_result"
    }
   ],
   "source": [
    "# numerical atributes\n",
    "num_attributes = housing_train.columns.drop('ocean_proximity')\n",
    "num_attributes"
   ]
  },
  {
   "cell_type": "code",
   "execution_count": 23,
   "id": "objective-census",
   "metadata": {},
   "outputs": [
    {
     "data": {
      "text/plain": [
       "['ocean_proximity']"
      ]
     },
     "execution_count": 23,
     "metadata": {},
     "output_type": "execute_result"
    }
   ],
   "source": [
    "# categorical attributes\n",
    "cat_attributes = ['ocean_proximity']\n",
    "cat_attributes"
   ]
  },
  {
   "cell_type": "code",
   "execution_count": 26,
   "id": "monetary-portuguese",
   "metadata": {},
   "outputs": [],
   "source": [
    "# separating the features\n",
    "housing_train_num = housing_train[num_attributes]\n",
    "housing_train_cat = housing_train[cat_attributes]"
   ]
  },
  {
   "cell_type": "code",
   "execution_count": 27,
   "id": "danish-german",
   "metadata": {},
   "outputs": [
    {
     "data": {
      "text/html": [
       "<div>\n",
       "<style scoped>\n",
       "    .dataframe tbody tr th:only-of-type {\n",
       "        vertical-align: middle;\n",
       "    }\n",
       "\n",
       "    .dataframe tbody tr th {\n",
       "        vertical-align: top;\n",
       "    }\n",
       "\n",
       "    .dataframe thead th {\n",
       "        text-align: right;\n",
       "    }\n",
       "</style>\n",
       "<table border=\"1\" class=\"dataframe\">\n",
       "  <thead>\n",
       "    <tr style=\"text-align: right;\">\n",
       "      <th></th>\n",
       "      <th>longitude</th>\n",
       "      <th>latitude</th>\n",
       "      <th>housing_median_age</th>\n",
       "      <th>total_rooms</th>\n",
       "      <th>total_bedrooms</th>\n",
       "      <th>population</th>\n",
       "      <th>households</th>\n",
       "      <th>median_income</th>\n",
       "    </tr>\n",
       "  </thead>\n",
       "  <tbody>\n",
       "    <tr>\n",
       "      <th>0</th>\n",
       "      <td>-121.37</td>\n",
       "      <td>37.06</td>\n",
       "      <td>25.0</td>\n",
       "      <td>474.0</td>\n",
       "      <td>92.0</td>\n",
       "      <td>300.0</td>\n",
       "      <td>104.0</td>\n",
       "      <td>3.8062</td>\n",
       "    </tr>\n",
       "    <tr>\n",
       "      <th>1</th>\n",
       "      <td>-118.39</td>\n",
       "      <td>34.14</td>\n",
       "      <td>19.0</td>\n",
       "      <td>5076.0</td>\n",
       "      <td>1034.0</td>\n",
       "      <td>2021.0</td>\n",
       "      <td>960.0</td>\n",
       "      <td>5.5683</td>\n",
       "    </tr>\n",
       "    <tr>\n",
       "      <th>2</th>\n",
       "      <td>-122.07</td>\n",
       "      <td>37.41</td>\n",
       "      <td>26.0</td>\n",
       "      <td>1184.0</td>\n",
       "      <td>225.0</td>\n",
       "      <td>815.0</td>\n",
       "      <td>218.0</td>\n",
       "      <td>5.7657</td>\n",
       "    </tr>\n",
       "    <tr>\n",
       "      <th>3</th>\n",
       "      <td>-121.92</td>\n",
       "      <td>36.57</td>\n",
       "      <td>42.0</td>\n",
       "      <td>3944.0</td>\n",
       "      <td>738.0</td>\n",
       "      <td>1374.0</td>\n",
       "      <td>598.0</td>\n",
       "      <td>4.1740</td>\n",
       "    </tr>\n",
       "    <tr>\n",
       "      <th>4</th>\n",
       "      <td>-118.36</td>\n",
       "      <td>33.82</td>\n",
       "      <td>36.0</td>\n",
       "      <td>1083.0</td>\n",
       "      <td>187.0</td>\n",
       "      <td>522.0</td>\n",
       "      <td>187.0</td>\n",
       "      <td>5.7765</td>\n",
       "    </tr>\n",
       "  </tbody>\n",
       "</table>\n",
       "</div>"
      ],
      "text/plain": [
       "   longitude  latitude  housing_median_age  total_rooms  total_bedrooms  \\\n",
       "0    -121.37     37.06                25.0        474.0            92.0   \n",
       "1    -118.39     34.14                19.0       5076.0          1034.0   \n",
       "2    -122.07     37.41                26.0       1184.0           225.0   \n",
       "3    -121.92     36.57                42.0       3944.0           738.0   \n",
       "4    -118.36     33.82                36.0       1083.0           187.0   \n",
       "\n",
       "   population  households  median_income  \n",
       "0       300.0       104.0         3.8062  \n",
       "1      2021.0       960.0         5.5683  \n",
       "2       815.0       218.0         5.7657  \n",
       "3      1374.0       598.0         4.1740  \n",
       "4       522.0       187.0         5.7765  "
      ]
     },
     "execution_count": 27,
     "metadata": {},
     "output_type": "execute_result"
    }
   ],
   "source": [
    "housing_train_num.head()"
   ]
  },
  {
   "cell_type": "code",
   "execution_count": 28,
   "id": "dressed-necessity",
   "metadata": {},
   "outputs": [
    {
     "data": {
      "text/html": [
       "<div>\n",
       "<style scoped>\n",
       "    .dataframe tbody tr th:only-of-type {\n",
       "        vertical-align: middle;\n",
       "    }\n",
       "\n",
       "    .dataframe tbody tr th {\n",
       "        vertical-align: top;\n",
       "    }\n",
       "\n",
       "    .dataframe thead th {\n",
       "        text-align: right;\n",
       "    }\n",
       "</style>\n",
       "<table border=\"1\" class=\"dataframe\">\n",
       "  <thead>\n",
       "    <tr style=\"text-align: right;\">\n",
       "      <th></th>\n",
       "      <th>ocean_proximity</th>\n",
       "    </tr>\n",
       "  </thead>\n",
       "  <tbody>\n",
       "    <tr>\n",
       "      <th>0</th>\n",
       "      <td>INLAND</td>\n",
       "    </tr>\n",
       "    <tr>\n",
       "      <th>1</th>\n",
       "      <td>&lt;1H OCEAN</td>\n",
       "    </tr>\n",
       "    <tr>\n",
       "      <th>2</th>\n",
       "      <td>NEAR BAY</td>\n",
       "    </tr>\n",
       "    <tr>\n",
       "      <th>3</th>\n",
       "      <td>NEAR OCEAN</td>\n",
       "    </tr>\n",
       "    <tr>\n",
       "      <th>4</th>\n",
       "      <td>&lt;1H OCEAN</td>\n",
       "    </tr>\n",
       "  </tbody>\n",
       "</table>\n",
       "</div>"
      ],
      "text/plain": [
       "  ocean_proximity\n",
       "0          INLAND\n",
       "1       <1H OCEAN\n",
       "2        NEAR BAY\n",
       "3      NEAR OCEAN\n",
       "4       <1H OCEAN"
      ]
     },
     "execution_count": 28,
     "metadata": {},
     "output_type": "execute_result"
    }
   ],
   "source": [
    "housing_train_cat.head()"
   ]
  },
  {
   "cell_type": "markdown",
   "id": "confused-sauce",
   "metadata": {
    "tags": []
   },
   "source": [
    "### 5.4. Filling in missing values"
   ]
  },
  {
   "cell_type": "markdown",
   "id": "accepting-comedy",
   "metadata": {},
   "source": [
    "`sklearn.impute.SimpleImputer` <br/>\n",
    "https://scikit-learn.org/stable/modules/generated/sklearn.impute.SimpleImputer.html"
   ]
  },
  {
   "cell_type": "code",
   "execution_count": 36,
   "id": "falling-stick",
   "metadata": {},
   "outputs": [
    {
     "data": {
      "text/plain": [
       "SimpleImputer(strategy='median')"
      ]
     },
     "execution_count": 36,
     "metadata": {},
     "output_type": "execute_result"
    }
   ],
   "source": [
    "from sklearn.impute import SimpleImputer\n",
    "\n",
    "imputer = SimpleImputer(strategy='median')\n",
    "imputer.fit(housing_train_num)"
   ]
  },
  {
   "cell_type": "code",
   "execution_count": 37,
   "id": "laden-jones",
   "metadata": {},
   "outputs": [
    {
     "data": {
      "text/plain": [
       "array([-118.45  ,   34.24  ,   27.    , 2142.    ,  441.    , 1207.    ,\n",
       "        416.    ,    3.4559])"
      ]
     },
     "execution_count": 37,
     "metadata": {},
     "output_type": "execute_result"
    }
   ],
   "source": [
    "imputer.statistics_  # computed medians"
   ]
  },
  {
   "cell_type": "code",
   "execution_count": 40,
   "id": "gorgeous-melissa",
   "metadata": {},
   "outputs": [
    {
     "data": {
      "text/plain": [
       "longitude             -118.4500\n",
       "latitude                34.2400\n",
       "housing_median_age      27.0000\n",
       "total_rooms           2142.0000\n",
       "total_bedrooms         441.0000\n",
       "population            1207.0000\n",
       "households             416.0000\n",
       "median_income            3.4559\n",
       "dtype: float64"
      ]
     },
     "execution_count": 40,
     "metadata": {},
     "output_type": "execute_result"
    }
   ],
   "source": [
    "housing_train_num.median()"
   ]
  },
  {
   "cell_type": "markdown",
   "id": "focal-audio",
   "metadata": {},
   "source": [
    "<table align=\"left\" class=\"dashed-box\">\n",
    "<tr>\n",
    "    <td>💡</td>\n",
    "    <td>The <code>SimpleImputer</code> finds out the <i>statistic for imputation</i> <b>for ALL features</b>.</td>\n",
    "</tr>\n",
    "<tr>\n",
    "    <td></td>\n",
    "    <td>We can save this <i>transformer</i> on the disk for future transfomations.</td>\n",
    "</tr>\n",
    "</table><br/><br/>"
   ]
  },
  {
   "cell_type": "code",
   "execution_count": 42,
   "id": "residential-stage",
   "metadata": {},
   "outputs": [
    {
     "data": {
      "text/plain": [
       "array([[-1.2137e+02,  3.7060e+01,  2.5000e+01, ...,  3.0000e+02,\n",
       "         1.0400e+02,  3.8062e+00],\n",
       "       [-1.1839e+02,  3.4140e+01,  1.9000e+01, ...,  2.0210e+03,\n",
       "         9.6000e+02,  5.5683e+00],\n",
       "       [-1.2207e+02,  3.7410e+01,  2.6000e+01, ...,  8.1500e+02,\n",
       "         2.1800e+02,  5.7657e+00],\n",
       "       ...,\n",
       "       [-1.2186e+02,  3.7310e+01,  2.4000e+01, ...,  1.8080e+03,\n",
       "         6.2500e+02,  2.2259e+00],\n",
       "       [-1.2132e+02,  3.7960e+01,  4.6000e+01, ...,  9.7500e+02,\n",
       "         3.7300e+02,  2.0398e+00],\n",
       "       [-1.1730e+02,  3.4140e+01,  3.9000e+01, ...,  8.4100e+02,\n",
       "         3.2000e+02,  1.9432e+00]])"
      ]
     },
     "execution_count": 42,
     "metadata": {},
     "output_type": "execute_result"
    }
   ],
   "source": [
    "# filling in the missing values FOR ALL attributes\n",
    "# it generates a numpy array\n",
    "housing_train_num_imputed = imputer.transform(housing_train_num)\n",
    "housing_train_num_imputed"
   ]
  },
  {
   "cell_type": "markdown",
   "id": "focal-exhibit",
   "metadata": {},
   "source": [
    "### 5.5. Adding new features\n",
    "To _automate data preprocessing_ via sklearn, we will need _to create_ our **own transformer** to add the new features considered."
   ]
  },
  {
   "cell_type": "code",
   "execution_count": 44,
   "id": "incorrect-numbers",
   "metadata": {},
   "outputs": [],
   "source": [
    "# template to create an own estimation\n",
    "from sklearn.base import BaseEstimator, TransformerMixin\n",
    "\n",
    "\n",
    "class NameOfYourTransformer(BaseEstimator, TransformerMixin):\n",
    "    def __init__(self):\n",
    "        pass\n",
    "    \n",
    "    def fit(self, X, y=None):\n",
    "        return self  # nothing else to do\n",
    "    \n",
    "    def transform(self, X):\n",
    "        return None  # return the transformed data instead of None\n"
   ]
  },
  {
   "cell_type": "markdown",
   "id": "dress-siemens",
   "metadata": {},
   "source": [
    "Since our custom transformer can be executed before other transformation, we will consider that the input is a **numpy 2D array**, not a _dataframe_. <br/>\n",
    "\n",
    "This transformer will create 3 new features, based on the current ones:\n",
    "- `total_rooms`\n",
    "- `total_bedrooms`\n",
    "- `population`\n",
    "- `households`\n",
    "\n",
    "\n",
    "Thus, we need to find their column indices first because our input will be a **numpy 2D array**."
   ]
  },
  {
   "cell_type": "code",
   "execution_count": 43,
   "id": "limited-statistics",
   "metadata": {},
   "outputs": [
    {
     "name": "stdout",
     "output_type": "stream",
     "text": [
      "0 = longitude\n",
      "1 = latitude\n",
      "2 = housing_median_age\n",
      "3 = total_rooms\n",
      "4 = total_bedrooms\n",
      "5 = population\n",
      "6 = households\n",
      "7 = median_income\n"
     ]
    }
   ],
   "source": [
    "# get the integer index of each attribute/column:\n",
    "for index, column_name in enumerate(housing_train_num.columns):\n",
    "    print(f'{index} = {column_name}')"
   ]
  },
  {
   "cell_type": "code",
   "execution_count": 48,
   "id": "57e697d8-cc69-4ece-8d9c-d41b9ba45033",
   "metadata": {},
   "outputs": [],
   "source": [
    "from sklearn.base import BaseEstimator, TransformerMixin\n",
    "import numpy as np\n",
    "\n",
    "total_rooms_col_idx = 3\n",
    "households_col_idx = 6\n",
    "total_bedrooms_col_idx = 4\n",
    "population_col_idx = 5\n",
    "\n",
    "class HousingFeatEngineering(BaseEstimator, TransformerMixin):\n",
    "    def __init__(self):\n",
    "        pass\n",
    "    \n",
    "    def fit(self, X, y=None):\n",
    "        return self  # nothing else to do\n",
    "    \n",
    "    def transform(self, X):\n",
    "        n_rows = X.shape[0]\n",
    "        \n",
    "        # create the new features\n",
    "        rooms_per_household = X[:, total_rooms_col_idx] / X[:, households_col_idx]\n",
    "        bedrooms_per_room = X[:, total_bedrooms_col_idx] / X[:, total_rooms_col_idx]\n",
    "        population_per_household = X[:, population_col_idx] / X[:, households_col_idx]\n",
    "        \n",
    "        # to concatenate the new array as columns in our feature matrix, we need to reshape first\n",
    "        rooms_per_household = rooms_per_household.reshape((n_rows, 1))\n",
    "        bedrooms_per_room = bedrooms_per_room.reshape((n_rows, 1))\n",
    "        population_per_household = population_per_household.reshape((n_rows, 1))\n",
    "        \n",
    "        # concatenation the new features into the feature matrix X\n",
    "        X_out = np.hstack((X, rooms_per_household, bedrooms_per_room, population_per_household))\n",
    "        \n",
    "        return X_out"
   ]
  },
  {
   "cell_type": "code",
   "execution_count": 49,
   "id": "magnetic-group",
   "metadata": {},
   "outputs": [
    {
     "data": {
      "text/plain": [
       "array([[-121.37      ,   37.06      ,   25.        , ...,    4.55769231,\n",
       "           0.19409283,    2.88461538],\n",
       "       [-118.39      ,   34.14      ,   19.        , ...,    5.2875    ,\n",
       "           0.2037037 ,    2.10520833],\n",
       "       [-122.07      ,   37.41      ,   26.        , ...,    5.43119266,\n",
       "           0.19003378,    3.73853211],\n",
       "       ...,\n",
       "       [-121.86      ,   37.31      ,   24.        , ...,    3.1024    ,\n",
       "           0.3362558 ,    2.8928    ],\n",
       "       [-121.32      ,   37.96      ,   46.        , ...,    4.91152815,\n",
       "           0.19923581,    2.61394102],\n",
       "       [-117.3       ,   34.14      ,   39.        , ...,    5.565625  ,\n",
       "           0.18809657,    2.628125  ]])"
      ]
     },
     "execution_count": 49,
     "metadata": {},
     "output_type": "execute_result"
    }
   ],
   "source": [
    "feat_engineer = HousingFeatEngineering()\n",
    "\n",
    "housing_train_num_new_feats = feat_engineer.transform(housing_train_num.values)  # we need to convert it to numpy first\n",
    "housing_train_num_new_feats"
   ]
  },
  {
   "cell_type": "code",
   "execution_count": 50,
   "id": "economic-rocket",
   "metadata": {},
   "outputs": [
    {
     "data": {
      "text/plain": [
       "(14857, 11)"
      ]
     },
     "execution_count": 50,
     "metadata": {},
     "output_type": "execute_result"
    }
   ],
   "source": [
    "housing_train_num_new_feats.shape"
   ]
  },
  {
   "cell_type": "code",
   "execution_count": 51,
   "id": "posted-earth",
   "metadata": {},
   "outputs": [
    {
     "data": {
      "text/plain": [
       "array([[4.55769231, 0.19409283, 2.88461538],\n",
       "       [5.2875    , 0.2037037 , 2.10520833],\n",
       "       [5.43119266, 0.19003378, 3.73853211],\n",
       "       ...,\n",
       "       [3.1024    , 0.3362558 , 2.8928    ],\n",
       "       [4.91152815, 0.19923581, 2.61394102],\n",
       "       [5.565625  , 0.18809657, 2.628125  ]])"
      ]
     },
     "execution_count": 51,
     "metadata": {},
     "output_type": "execute_result"
    }
   ],
   "source": [
    "# show the new feats\n",
    "housing_train_num_new_feats[:, -3:]"
   ]
  },
  {
   "cell_type": "markdown",
   "id": "familiar-competition",
   "metadata": {},
   "source": [
    "### 5.6. Feature Scaling\n",
    "Exactly as performed in the previous sprint: **RobustScaler**. <br/>\n",
    "https://scikit-learn.org/stable/modules/generated/sklearn.preprocessing.RobustScaler.html"
   ]
  },
  {
   "cell_type": "code",
   "execution_count": 52,
   "id": "amazing-requirement",
   "metadata": {},
   "outputs": [
    {
     "data": {
      "text/plain": [
       "RobustScaler()"
      ]
     },
     "execution_count": 52,
     "metadata": {},
     "output_type": "execute_result"
    }
   ],
   "source": [
    "from sklearn.preprocessing import RobustScaler\n",
    "\n",
    "scaler = RobustScaler()\n",
    "scaler.fit(housing_train_num)"
   ]
  },
  {
   "cell_type": "code",
   "execution_count": 53,
   "id": "shared-expansion",
   "metadata": {},
   "outputs": [
    {
     "data": {
      "text/plain": [
       "array([[-0.81337047,  0.752     , -0.11111111, ..., -0.93989637,\n",
       "        -0.94545455,  0.1689414 ],\n",
       "       [ 0.01671309, -0.02666667, -0.44444444, ...,  0.84352332,\n",
       "         1.64848485,  1.01876055],\n",
       "       [-1.00835655,  0.84533333, -0.05555556, ..., -0.40621762,\n",
       "        -0.6       ,  1.1139619 ],\n",
       "       ...,\n",
       "       [-0.94986072,  0.81866667, -0.16666667, ...,  0.62279793,\n",
       "         0.63333333, -0.5931999 ],\n",
       "       [-0.7994429 ,  0.992     ,  1.05555556, ..., -0.24041451,\n",
       "        -0.13030303, -0.68295153],\n",
       "       [ 0.32033426, -0.02666667,  0.66666667, ..., -0.37927461,\n",
       "        -0.29090909, -0.72953943]])"
      ]
     },
     "execution_count": 53,
     "metadata": {},
     "output_type": "execute_result"
    }
   ],
   "source": [
    "housing_train_num_scaled = scaler.transform(housing_train_num)\n",
    "housing_train_num_scaled"
   ]
  },
  {
   "cell_type": "markdown",
   "id": "assumed-norway",
   "metadata": {},
   "source": [
    "### 5.7. Categorical Varaible Encoding\n",
    "Instead of using the method `.get_dummies()` from _pandas_, let's use a method from _sklearn_.\n",
    "\n",
    "`sklearn.preprocessing.OneHotEncoder` <br/>\n",
    "https://scikit-learn.org/stable/modules/generated/sklearn.preprocessing.OneHotEncoder.html"
   ]
  },
  {
   "cell_type": "code",
   "execution_count": 61,
   "id": "previous-consequence",
   "metadata": {},
   "outputs": [],
   "source": [
    "from sklearn.preprocessing import OneHotEncoder\n",
    "\n",
    "encoder = OneHotEncoder(handle_unknown='ignore')\n",
    "housing_train_cat_1hot = encoder.fit_transform(housing_train_cat)"
   ]
  },
  {
   "cell_type": "code",
   "execution_count": 62,
   "id": "prospective-ivory",
   "metadata": {},
   "outputs": [
    {
     "data": {
      "text/html": [
       "<div>\n",
       "<style scoped>\n",
       "    .dataframe tbody tr th:only-of-type {\n",
       "        vertical-align: middle;\n",
       "    }\n",
       "\n",
       "    .dataframe tbody tr th {\n",
       "        vertical-align: top;\n",
       "    }\n",
       "\n",
       "    .dataframe thead th {\n",
       "        text-align: right;\n",
       "    }\n",
       "</style>\n",
       "<table border=\"1\" class=\"dataframe\">\n",
       "  <thead>\n",
       "    <tr style=\"text-align: right;\">\n",
       "      <th></th>\n",
       "      <th>ocean_proximity</th>\n",
       "    </tr>\n",
       "  </thead>\n",
       "  <tbody>\n",
       "    <tr>\n",
       "      <th>0</th>\n",
       "      <td>INLAND</td>\n",
       "    </tr>\n",
       "    <tr>\n",
       "      <th>1</th>\n",
       "      <td>&lt;1H OCEAN</td>\n",
       "    </tr>\n",
       "    <tr>\n",
       "      <th>2</th>\n",
       "      <td>NEAR BAY</td>\n",
       "    </tr>\n",
       "    <tr>\n",
       "      <th>3</th>\n",
       "      <td>NEAR OCEAN</td>\n",
       "    </tr>\n",
       "    <tr>\n",
       "      <th>4</th>\n",
       "      <td>&lt;1H OCEAN</td>\n",
       "    </tr>\n",
       "    <tr>\n",
       "      <th>...</th>\n",
       "      <td>...</td>\n",
       "    </tr>\n",
       "    <tr>\n",
       "      <th>14852</th>\n",
       "      <td>NEAR OCEAN</td>\n",
       "    </tr>\n",
       "    <tr>\n",
       "      <th>14853</th>\n",
       "      <td>&lt;1H OCEAN</td>\n",
       "    </tr>\n",
       "    <tr>\n",
       "      <th>14854</th>\n",
       "      <td>&lt;1H OCEAN</td>\n",
       "    </tr>\n",
       "    <tr>\n",
       "      <th>14855</th>\n",
       "      <td>INLAND</td>\n",
       "    </tr>\n",
       "    <tr>\n",
       "      <th>14856</th>\n",
       "      <td>INLAND</td>\n",
       "    </tr>\n",
       "  </tbody>\n",
       "</table>\n",
       "<p>14857 rows × 1 columns</p>\n",
       "</div>"
      ],
      "text/plain": [
       "      ocean_proximity\n",
       "0              INLAND\n",
       "1           <1H OCEAN\n",
       "2            NEAR BAY\n",
       "3          NEAR OCEAN\n",
       "4           <1H OCEAN\n",
       "...               ...\n",
       "14852      NEAR OCEAN\n",
       "14853       <1H OCEAN\n",
       "14854       <1H OCEAN\n",
       "14855          INLAND\n",
       "14856          INLAND\n",
       "\n",
       "[14857 rows x 1 columns]"
      ]
     },
     "execution_count": 62,
     "metadata": {},
     "output_type": "execute_result"
    }
   ],
   "source": [
    "housing_train_cat"
   ]
  },
  {
   "cell_type": "code",
   "execution_count": 63,
   "id": "macro-freeware",
   "metadata": {},
   "outputs": [
    {
     "data": {
      "text/plain": [
       "<14857x5 sparse matrix of type '<class 'numpy.float64'>'\n",
       "\twith 14857 stored elements in Compressed Sparse Row format>"
      ]
     },
     "execution_count": 63,
     "metadata": {},
     "output_type": "execute_result"
    }
   ],
   "source": [
    "housing_train_cat_1hot"
   ]
  },
  {
   "cell_type": "markdown",
   "id": "executive-white",
   "metadata": {},
   "source": [
    "<table align=\"left\" class=\"dashed-box\">\n",
    "<tr>\n",
    "    <td>💡</td>\n",
    "    <td>Notice that the output is a <i>SciPy sparse matrix</i>, instead of a <i>NumPy array</i>. This is very useful when you have categorical attributes with <b>thousands of categories</b>.</td>\n",
    "</tr>\n",
    "<tr>\n",
    "    <td></td>\n",
    "    <td>After one-hot encoding, we get a matrix with thousands of columns, and the matrix is <i>full of 0s</i> except for <i>a single <b>1</b> per row</i>.</td>\n",
    "</tr>\n",
    "<tr>\n",
    "    <td></td>\n",
    "    <td>Using up tons of memory mostly to store zeros would be very wasteful, so instead a sparse matrix only stores the location of the nonzero elements.</td>\n",
    "</tr>\n",
    "</table><br/><br/>\n"
   ]
  },
  {
   "cell_type": "code",
   "execution_count": 65,
   "id": "suffering-springfield",
   "metadata": {},
   "outputs": [
    {
     "data": {
      "text/plain": [
       "array([[0., 1., 0., 0., 0.],\n",
       "       [1., 0., 0., 0., 0.],\n",
       "       [0., 0., 0., 1., 0.],\n",
       "       ...,\n",
       "       [1., 0., 0., 0., 0.],\n",
       "       [0., 1., 0., 0., 0.],\n",
       "       [0., 1., 0., 0., 0.]])"
      ]
     },
     "execution_count": 65,
     "metadata": {},
     "output_type": "execute_result"
    }
   ],
   "source": [
    "# converting to NumPy array\n",
    "housing_train_cat_1hot.toarray()"
   ]
  },
  {
   "cell_type": "code",
   "execution_count": 66,
   "id": "mental-button",
   "metadata": {},
   "outputs": [
    {
     "data": {
      "text/plain": [
       "[array(['<1H OCEAN', 'INLAND', 'ISLAND', 'NEAR BAY', 'NEAR OCEAN'],\n",
       "       dtype=object)]"
      ]
     },
     "execution_count": 66,
     "metadata": {},
     "output_type": "execute_result"
    }
   ],
   "source": [
    "# getting the list of categories\n",
    "encoder.categories_"
   ]
  },
  {
   "cell_type": "markdown",
   "id": "annual-affect",
   "metadata": {},
   "source": [
    "### 5.8. Creating Preprocessing `Pipelines`\n",
    "https://scikit-learn.org/stable/modules/generated/sklearn.pipeline.Pipeline.html"
   ]
  },
  {
   "cell_type": "markdown",
   "id": "placed-opening",
   "metadata": {},
   "source": [
    "<table align=\"left\" class=\"dashed-box\">\n",
    "<tr>\n",
    "    <td><span class='alt-tab'>alt tab</span></td>\n",
    "    <td><b>Slides:</b> Scikit-Learn Design Principles - Pipelines<br/></td>\n",
    "</tr>\n",
    "</table><br/><br/>"
   ]
  },
  {
   "cell_type": "markdown",
   "id": "certified-madagascar",
   "metadata": {},
   "source": [
    "Let's create a **Preprocessing `Pipeline`**."
   ]
  },
  {
   "cell_type": "code",
   "execution_count": 67,
   "id": "northern-artwork",
   "metadata": {},
   "outputs": [],
   "source": [
    "from sklearn.pipeline import Pipeline"
   ]
  },
  {
   "cell_type": "markdown",
   "id": "eligible-librarian",
   "metadata": {},
   "source": [
    "#### Pipeline for numerical data"
   ]
  },
  {
   "cell_type": "code",
   "execution_count": 68,
   "id": "realistic-nothing",
   "metadata": {},
   "outputs": [],
   "source": [
    "from sklearn.impute import SimpleImputer\n",
    "from sklearn.preprocessing import RobustScaler\n",
    "\n",
    "num_pipeline = Pipeline([\n",
    "    ('imputer', SimpleImputer(strategy='median')),\n",
    "    ('feat_engineering', HousingFeatEngineering()),\n",
    "    ('robust_scaler', RobustScaler())\n",
    "])"
   ]
  },
  {
   "cell_type": "code",
   "execution_count": 73,
   "id": "plain-brunswick",
   "metadata": {},
   "outputs": [],
   "source": [
    "housing_train_num_preprocessed = num_pipeline.fit_transform(housing_train_num)"
   ]
  },
  {
   "cell_type": "code",
   "execution_count": 74,
   "id": "flexible-nebraska",
   "metadata": {},
   "outputs": [
    {
     "data": {
      "text/plain": [
       "array([[-0.81337047,  0.752     , -0.11111111, ..., -0.41720345,\n",
       "        -0.15307229,  0.03593627],\n",
       "       [ 0.01671309, -0.02666667, -0.44444444, ...,  0.05044793,\n",
       "        -0.00235622, -0.88393775],\n",
       "       [-1.00835655,  0.84533333, -0.05555556, ...,  0.14252434,\n",
       "        -0.21672549,  1.04374832],\n",
       "       ...,\n",
       "       [-0.94986072,  0.81866667, -0.16666667, ..., -1.34973604,\n",
       "         2.07630238,  0.04559594],\n",
       "       [-0.7994429 ,  0.992     ,  1.05555556, ..., -0.19046999,\n",
       "        -0.07242097, -0.2835198 ],\n",
       "       [ 0.32033426, -0.02666667,  0.66666667, ...,  0.22866686,\n",
       "        -0.24710446, -0.26677954]])"
      ]
     },
     "execution_count": 74,
     "metadata": {},
     "output_type": "execute_result"
    }
   ],
   "source": [
    "housing_train_num_preprocessed"
   ]
  },
  {
   "cell_type": "code",
   "execution_count": 75,
   "id": "tough-herald",
   "metadata": {},
   "outputs": [
    {
     "data": {
      "text/plain": [
       "(14857, 11)"
      ]
     },
     "execution_count": 75,
     "metadata": {},
     "output_type": "execute_result"
    }
   ],
   "source": [
    "housing_train_num_preprocessed.shape"
   ]
  },
  {
   "cell_type": "markdown",
   "id": "simple-consistency",
   "metadata": {},
   "source": [
    "#### Pipeline for categorical data"
   ]
  },
  {
   "cell_type": "code",
   "execution_count": 76,
   "id": "attempted-hygiene",
   "metadata": {},
   "outputs": [],
   "source": [
    "from sklearn.preprocessing import OneHotEncoder\n",
    "\n",
    "cat_pipeline = Pipeline([\n",
    "    ('one-hot-encoding', OneHotEncoder(handle_unknown='ignore'))\n",
    "])"
   ]
  },
  {
   "cell_type": "code",
   "execution_count": 77,
   "id": "occasional-reserve",
   "metadata": {},
   "outputs": [],
   "source": [
    "housing_train_cat_preprocessed = cat_pipeline.fit_transform(housing_train_cat)"
   ]
  },
  {
   "cell_type": "code",
   "execution_count": 78,
   "id": "annoying-electricity",
   "metadata": {},
   "outputs": [
    {
     "data": {
      "text/plain": [
       "array([[0., 1., 0., 0., 0.],\n",
       "       [1., 0., 0., 0., 0.],\n",
       "       [0., 0., 0., 1., 0.],\n",
       "       ...,\n",
       "       [1., 0., 0., 0., 0.],\n",
       "       [0., 1., 0., 0., 0.],\n",
       "       [0., 1., 0., 0., 0.]])"
      ]
     },
     "execution_count": 78,
     "metadata": {},
     "output_type": "execute_result"
    }
   ],
   "source": [
    "housing_train_cat_preprocessed.toarray()"
   ]
  },
  {
   "cell_type": "code",
   "execution_count": 79,
   "id": "alert-slave",
   "metadata": {},
   "outputs": [
    {
     "data": {
      "text/plain": [
       "True"
      ]
     },
     "execution_count": 79,
     "metadata": {},
     "output_type": "execute_result"
    }
   ],
   "source": [
    "np.all(housing_train_cat_preprocessed.toarray() == housing_train_cat_1hot)"
   ]
  },
  {
   "cell_type": "markdown",
   "id": "institutional-season",
   "metadata": {},
   "source": [
    "### 5.9. Putting it all by `ColumnTransformer`\n",
    "https://scikit-learn.org/stable/modules/generated/sklearn.compose.ColumnTransformer.html"
   ]
  },
  {
   "cell_type": "markdown",
   "id": "senior-lying",
   "metadata": {},
   "source": [
    "Applies _transformers_ to **columns** of an array or pandas DataFrame. <br/>\n",
    "This **estimator** allows _different columns_ or _column subsets_ of the input to be **transformed *separately*** and the _features generated_ by each transformer will be _concatenated_ to form a **single feature space**. <br/>\n",
    "\n",
    "This is useful for _heterogeneous or columnar data_, to combine several feature extraction mechanisms or transformations into a single transformer."
   ]
  },
  {
   "cell_type": "code",
   "execution_count": 80,
   "id": "durable-decision",
   "metadata": {},
   "outputs": [
    {
     "data": {
      "text/plain": [
       "Index(['longitude', 'latitude', 'housing_median_age', 'total_rooms',\n",
       "       'total_bedrooms', 'population', 'households', 'median_income'],\n",
       "      dtype='object')"
      ]
     },
     "execution_count": 80,
     "metadata": {},
     "output_type": "execute_result"
    }
   ],
   "source": [
    "num_attributes"
   ]
  },
  {
   "cell_type": "code",
   "execution_count": 81,
   "id": "armed-eight",
   "metadata": {},
   "outputs": [
    {
     "data": {
      "text/plain": [
       "['ocean_proximity']"
      ]
     },
     "execution_count": 81,
     "metadata": {},
     "output_type": "execute_result"
    }
   ],
   "source": [
    "cat_attributes"
   ]
  },
  {
   "cell_type": "code",
   "execution_count": 82,
   "id": "christian-hostel",
   "metadata": {},
   "outputs": [
    {
     "data": {
      "text/html": [
       "<div>\n",
       "<style scoped>\n",
       "    .dataframe tbody tr th:only-of-type {\n",
       "        vertical-align: middle;\n",
       "    }\n",
       "\n",
       "    .dataframe tbody tr th {\n",
       "        vertical-align: top;\n",
       "    }\n",
       "\n",
       "    .dataframe thead th {\n",
       "        text-align: right;\n",
       "    }\n",
       "</style>\n",
       "<table border=\"1\" class=\"dataframe\">\n",
       "  <thead>\n",
       "    <tr style=\"text-align: right;\">\n",
       "      <th></th>\n",
       "      <th>longitude</th>\n",
       "      <th>latitude</th>\n",
       "      <th>housing_median_age</th>\n",
       "      <th>total_rooms</th>\n",
       "      <th>total_bedrooms</th>\n",
       "      <th>population</th>\n",
       "      <th>households</th>\n",
       "      <th>median_income</th>\n",
       "      <th>ocean_proximity</th>\n",
       "    </tr>\n",
       "  </thead>\n",
       "  <tbody>\n",
       "    <tr>\n",
       "      <th>0</th>\n",
       "      <td>-121.37</td>\n",
       "      <td>37.06</td>\n",
       "      <td>25.0</td>\n",
       "      <td>474.0</td>\n",
       "      <td>92.0</td>\n",
       "      <td>300.0</td>\n",
       "      <td>104.0</td>\n",
       "      <td>3.8062</td>\n",
       "      <td>INLAND</td>\n",
       "    </tr>\n",
       "    <tr>\n",
       "      <th>1</th>\n",
       "      <td>-118.39</td>\n",
       "      <td>34.14</td>\n",
       "      <td>19.0</td>\n",
       "      <td>5076.0</td>\n",
       "      <td>1034.0</td>\n",
       "      <td>2021.0</td>\n",
       "      <td>960.0</td>\n",
       "      <td>5.5683</td>\n",
       "      <td>&lt;1H OCEAN</td>\n",
       "    </tr>\n",
       "    <tr>\n",
       "      <th>2</th>\n",
       "      <td>-122.07</td>\n",
       "      <td>37.41</td>\n",
       "      <td>26.0</td>\n",
       "      <td>1184.0</td>\n",
       "      <td>225.0</td>\n",
       "      <td>815.0</td>\n",
       "      <td>218.0</td>\n",
       "      <td>5.7657</td>\n",
       "      <td>NEAR BAY</td>\n",
       "    </tr>\n",
       "    <tr>\n",
       "      <th>3</th>\n",
       "      <td>-121.92</td>\n",
       "      <td>36.57</td>\n",
       "      <td>42.0</td>\n",
       "      <td>3944.0</td>\n",
       "      <td>738.0</td>\n",
       "      <td>1374.0</td>\n",
       "      <td>598.0</td>\n",
       "      <td>4.1740</td>\n",
       "      <td>NEAR OCEAN</td>\n",
       "    </tr>\n",
       "    <tr>\n",
       "      <th>4</th>\n",
       "      <td>-118.36</td>\n",
       "      <td>33.82</td>\n",
       "      <td>36.0</td>\n",
       "      <td>1083.0</td>\n",
       "      <td>187.0</td>\n",
       "      <td>522.0</td>\n",
       "      <td>187.0</td>\n",
       "      <td>5.7765</td>\n",
       "      <td>&lt;1H OCEAN</td>\n",
       "    </tr>\n",
       "  </tbody>\n",
       "</table>\n",
       "</div>"
      ],
      "text/plain": [
       "   longitude  latitude  housing_median_age  total_rooms  total_bedrooms  \\\n",
       "0    -121.37     37.06                25.0        474.0            92.0   \n",
       "1    -118.39     34.14                19.0       5076.0          1034.0   \n",
       "2    -122.07     37.41                26.0       1184.0           225.0   \n",
       "3    -121.92     36.57                42.0       3944.0           738.0   \n",
       "4    -118.36     33.82                36.0       1083.0           187.0   \n",
       "\n",
       "   population  households  median_income ocean_proximity  \n",
       "0       300.0       104.0         3.8062          INLAND  \n",
       "1      2021.0       960.0         5.5683       <1H OCEAN  \n",
       "2       815.0       218.0         5.7657        NEAR BAY  \n",
       "3      1374.0       598.0         4.1740      NEAR OCEAN  \n",
       "4       522.0       187.0         5.7765       <1H OCEAN  "
      ]
     },
     "execution_count": 82,
     "metadata": {},
     "output_type": "execute_result"
    }
   ],
   "source": [
    "housing_train.head()"
   ]
  },
  {
   "cell_type": "code",
   "execution_count": 95,
   "id": "operating-being",
   "metadata": {},
   "outputs": [],
   "source": [
    "from sklearn.impute import SimpleImputer\n",
    "from sklearn.preprocessing import RobustScaler, OneHotEncoder\n",
    "\n",
    "from sklearn.pipeline import Pipeline\n",
    "from sklearn.compose import ColumnTransformer\n",
    "\n",
    "num_pipeline = Pipeline([\n",
    "    ('imputer', SimpleImputer(strategy='median')),\n",
    "    ('feat_engineering', HousingFeatEngineering()),\n",
    "    ('robust_scaler', RobustScaler())\n",
    "])\n",
    "\n",
    "cat_pipeline = Pipeline([\n",
    "    ('one-hot-encoding', OneHotEncoder(handle_unknown='ignore'))\n",
    "])\n",
    "\n",
    "# (name, transformer, columns)\n",
    "preprocessed_pipeline = ColumnTransformer([\n",
    "    ('numerical', num_pipeline, num_attributes),\n",
    "    ('categorical', cat_pipeline, cat_attributes)\n",
    "])"
   ]
  },
  {
   "cell_type": "code",
   "execution_count": 96,
   "id": "offensive-pleasure",
   "metadata": {},
   "outputs": [],
   "source": [
    "housing_train_pre_npy = preprocessed_pipeline.fit_transform(housing_train)"
   ]
  },
  {
   "cell_type": "code",
   "execution_count": 97,
   "id": "worse-header",
   "metadata": {},
   "outputs": [
    {
     "data": {
      "text/plain": [
       "array([[-0.81337047,  0.752     , -0.11111111, ...,  0.        ,\n",
       "         0.        ,  0.        ],\n",
       "       [ 0.01671309, -0.02666667, -0.44444444, ...,  0.        ,\n",
       "         0.        ,  0.        ],\n",
       "       [-1.00835655,  0.84533333, -0.05555556, ...,  0.        ,\n",
       "         1.        ,  0.        ],\n",
       "       ...,\n",
       "       [-0.94986072,  0.81866667, -0.16666667, ...,  0.        ,\n",
       "         0.        ,  0.        ],\n",
       "       [-0.7994429 ,  0.992     ,  1.05555556, ...,  0.        ,\n",
       "         0.        ,  0.        ],\n",
       "       [ 0.32033426, -0.02666667,  0.66666667, ...,  0.        ,\n",
       "         0.        ,  0.        ]])"
      ]
     },
     "execution_count": 97,
     "metadata": {},
     "output_type": "execute_result"
    }
   ],
   "source": [
    "housing_train_pre_npy"
   ]
  },
  {
   "cell_type": "code",
   "execution_count": 100,
   "id": "53d99063-b5d9-480c-a50a-97dc300e19d9",
   "metadata": {},
   "outputs": [
    {
     "data": {
      "text/plain": [
       "(14857, 16)"
      ]
     },
     "execution_count": 100,
     "metadata": {},
     "output_type": "execute_result"
    }
   ],
   "source": [
    "housing_train_pre_npy.shape"
   ]
  },
  {
   "cell_type": "code",
   "execution_count": 101,
   "id": "incredible-pledge",
   "metadata": {},
   "outputs": [
    {
     "data": {
      "text/plain": [
       "{'numerical': Pipeline(steps=[('imputer', SimpleImputer(strategy='median')),\n",
       "                 ('feat_engineering', HousingFeatEngineering()),\n",
       "                 ('robust_scaler', RobustScaler())]),\n",
       " 'categorical': Pipeline(steps=[('one-hot-encoding', OneHotEncoder(handle_unknown='ignore'))])}"
      ]
     },
     "execution_count": 101,
     "metadata": {},
     "output_type": "execute_result"
    }
   ],
   "source": [
    "preprocessed_pipeline.named_transformers_"
   ]
  },
  {
   "cell_type": "code",
   "execution_count": 104,
   "id": "unable-replica",
   "metadata": {},
   "outputs": [
    {
     "data": {
      "text/plain": [
       "[('numerical',\n",
       "  Pipeline(steps=[('imputer', SimpleImputer(strategy='median')),\n",
       "                  ('feat_engineering', HousingFeatEngineering()),\n",
       "                  ('robust_scaler', RobustScaler())]),\n",
       "  Index(['longitude', 'latitude', 'housing_median_age', 'total_rooms',\n",
       "         'total_bedrooms', 'population', 'households', 'median_income'],\n",
       "        dtype='object')),\n",
       " ('categorical',\n",
       "  Pipeline(steps=[('one-hot-encoding', OneHotEncoder(handle_unknown='ignore'))]),\n",
       "  ['ocean_proximity'])]"
      ]
     },
     "execution_count": 104,
     "metadata": {},
     "output_type": "execute_result"
    }
   ],
   "source": [
    "preprocessed_pipeline.transformers_"
   ]
  },
  {
   "cell_type": "markdown",
   "id": "deadly-survival",
   "metadata": {},
   "source": [
    "### 5.10. Saving the Preprocessed Pipeline"
   ]
  },
  {
   "cell_type": "code",
   "execution_count": 107,
   "id": "defensive-seminar",
   "metadata": {},
   "outputs": [
    {
     "data": {
      "text/plain": [
       "['../models/preprocessed_pipeline.pkl']"
      ]
     },
     "execution_count": 107,
     "metadata": {},
     "output_type": "execute_result"
    }
   ],
   "source": [
    "import joblib\n",
    "\n",
    "joblib.dump(preprocessed_pipeline, '../models/preprocessed_pipeline.pkl')"
   ]
  },
  {
   "cell_type": "code",
   "execution_count": 108,
   "id": "progressive-representation",
   "metadata": {},
   "outputs": [],
   "source": [
    "# to load the pipeline\n",
    "loaded_preprocessed_pipeline = joblib.load('../models/preprocessed_pipeline.pkl')"
   ]
  },
  {
   "cell_type": "code",
   "execution_count": 110,
   "id": "qualified-method",
   "metadata": {},
   "outputs": [
    {
     "data": {
      "text/plain": [
       "array([[-0.81337047,  0.752     , -0.11111111, ...,  0.        ,\n",
       "         0.        ,  0.        ],\n",
       "       [ 0.01671309, -0.02666667, -0.44444444, ...,  0.        ,\n",
       "         0.        ,  0.        ],\n",
       "       [-1.00835655,  0.84533333, -0.05555556, ...,  0.        ,\n",
       "         1.        ,  0.        ],\n",
       "       ...,\n",
       "       [-0.94986072,  0.81866667, -0.16666667, ...,  0.        ,\n",
       "         0.        ,  0.        ],\n",
       "       [-0.7994429 ,  0.992     ,  1.05555556, ...,  0.        ,\n",
       "         0.        ,  0.        ],\n",
       "       [ 0.32033426, -0.02666667,  0.66666667, ...,  0.        ,\n",
       "         0.        ,  0.        ]])"
      ]
     },
     "execution_count": 110,
     "metadata": {},
     "output_type": "execute_result"
    }
   ],
   "source": [
    "housing_train_pre_npy_2 = loaded_preprocessed_pipeline.fit_transform(housing_train)\n",
    "housing_train_pre_npy_2"
   ]
  },
  {
   "cell_type": "code",
   "execution_count": 111,
   "id": "korean-advancement",
   "metadata": {},
   "outputs": [
    {
     "data": {
      "text/plain": [
       "True"
      ]
     },
     "execution_count": 111,
     "metadata": {},
     "output_type": "execute_result"
    }
   ],
   "source": [
    "np.all(housing_train_pre_npy == housing_train_pre_npy_2)"
   ]
  },
  {
   "cell_type": "markdown",
   "id": "retained-directive",
   "metadata": {},
   "source": [
    "### 5.11. Saving the Preprocessed Training Set"
   ]
  },
  {
   "cell_type": "code",
   "execution_count": 112,
   "id": "driven-prague",
   "metadata": {},
   "outputs": [],
   "source": [
    "np.save('../datasets/housing_train_pre_numpy_sprint-4.npy', housing_train_pre_npy)"
   ]
  },
  {
   "cell_type": "markdown",
   "id": "worth-landscape",
   "metadata": {},
   "source": [
    "## 🏋️‍♀️ 6. Train ML Algorithms"
   ]
  },
  {
   "cell_type": "markdown",
   "id": "graduate-strip",
   "metadata": {},
   "source": [
    "### 6.1. Getting the independent (features) and dependent variables (outcome)"
   ]
  },
  {
   "cell_type": "code",
   "execution_count": 113,
   "id": "voluntary-piece",
   "metadata": {},
   "outputs": [],
   "source": [
    "X_train = housing_train_pre_npy\n",
    "# we already have y_train"
   ]
  },
  {
   "cell_type": "code",
   "execution_count": 114,
   "id": "sharing-vacuum",
   "metadata": {},
   "outputs": [
    {
     "data": {
      "text/plain": [
       "(14857, 16)"
      ]
     },
     "execution_count": 114,
     "metadata": {},
     "output_type": "execute_result"
    }
   ],
   "source": [
    "X_train.shape"
   ]
  },
  {
   "cell_type": "code",
   "execution_count": 115,
   "id": "higher-spiritual",
   "metadata": {},
   "outputs": [
    {
     "data": {
      "text/plain": [
       "(14857,)"
      ]
     },
     "execution_count": 115,
     "metadata": {},
     "output_type": "execute_result"
    }
   ],
   "source": [
    "y_train.shape"
   ]
  },
  {
   "cell_type": "markdown",
   "id": "ranking-singing",
   "metadata": {},
   "source": [
    "### 6.2. Training the Models"
   ]
  },
  {
   "cell_type": "markdown",
   "id": "listed-round",
   "metadata": {},
   "source": [
    "<h3 style=\"color: #ff5757 !important\"><b>Cross-validation</b></h3>"
   ]
  },
  {
   "cell_type": "markdown",
   "id": "removed-genealogy",
   "metadata": {},
   "source": [
    "#### **→ Linear Regression**"
   ]
  },
  {
   "cell_type": "code",
   "execution_count": 116,
   "id": "urban-variation",
   "metadata": {},
   "outputs": [],
   "source": [
    "from sklearn.model_selection import cross_val_score\n",
    "from sklearn.linear_model import LinearRegression\n",
    "\n",
    "lin_reg = LinearRegression()  # default parameters\n",
    "lin_scores = cross_val_score(lin_reg, X_train, y_train, scoring=\"neg_mean_squared_error\", cv=10)\n",
    "\n",
    "lin_rmse_scores = np.sqrt(-lin_scores)"
   ]
  },
  {
   "cell_type": "code",
   "execution_count": 117,
   "id": "centered-announcement",
   "metadata": {},
   "outputs": [],
   "source": [
    "# printing function\n",
    "def display_scores(scores):\n",
    "    print(\"Scores:\", scores)\n",
    "    print(\"Mean:\", scores.mean())\n",
    "    print(\"Standard deviation:\", scores.std())"
   ]
  },
  {
   "cell_type": "code",
   "execution_count": 118,
   "id": "distributed-florida",
   "metadata": {},
   "outputs": [
    {
     "name": "stdout",
     "output_type": "stream",
     "text": [
      "Scores: [58883.49218279 55293.5735956  55181.52250607 57775.16025404\n",
      " 60155.15922657 59588.9688012  57781.68607191 59995.21362185\n",
      " 59923.51235138 59132.12479715]\n",
      "Mean: 58371.04134085788\n",
      "Standard deviation: 1757.914437100754\n"
     ]
    }
   ],
   "source": [
    "display_scores(lin_rmse_scores)"
   ]
  },
  {
   "cell_type": "markdown",
   "id": "quality-training",
   "metadata": {},
   "source": [
    "<br/>\n",
    "\n",
    "We have exactly the results Sprint #3.\n",
    "- **Linear Regression:** \\\\$58,371 ± \\$1,757"
   ]
  }
 ],
 "metadata": {
  "kernelspec": {
   "display_name": "Python 3",
   "language": "python",
   "name": "python3"
  },
  "language_info": {
   "codemirror_mode": {
    "name": "ipython",
    "version": 3
   },
   "file_extension": ".py",
   "mimetype": "text/x-python",
   "name": "python",
   "nbconvert_exporter": "python",
   "pygments_lexer": "ipython3",
   "version": "3.9.2"
  }
 },
 "nbformat": 4,
 "nbformat_minor": 5
}
